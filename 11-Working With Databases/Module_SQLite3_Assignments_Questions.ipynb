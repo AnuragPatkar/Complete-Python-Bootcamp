{
 "cells": [
  {
   "cell_type": "markdown",
   "id": "964cf61d",
   "metadata": {},
   "source": [
    "# Module: SQLite3 Assignments\n",
    "## Lesson: SQLite3\n",
    "### Assignment 1: Creating and Connecting to a Database\n",
    "\n",
    "1. Write a Python function to create a new SQLite3 database named `test.db`.\n"
   ]
  },
  {
   "cell_type": "code",
   "execution_count": 6,
   "id": "dbfda6ee",
   "metadata": {},
   "outputs": [
    {
     "name": "stdout",
     "output_type": "stream",
     "text": [
      "Database created and successfully connected.\n"
     ]
    }
   ],
   "source": [
    "import sqlite3\n",
    "\n",
    "def create_database():\n",
    "    conn = sqlite3.connect('test.db')\n",
    "    conn.close()\n",
    "    print(\"Database created and successfully connected.\")\n",
    "\n",
    "# Test the function\n",
    "create_database()\n"
   ]
  },
  {
   "cell_type": "markdown",
   "id": "e967546b",
   "metadata": {},
   "source": [
    "2. Write a Python function to create a table named `employees` with columns `id` (integer), `name` (text), `age` (integer), and `department` (text) in the `test.db` database.\n"
   ]
  },
  {
   "cell_type": "code",
   "execution_count": 7,
   "id": "96900087",
   "metadata": {},
   "outputs": [
    {
     "name": "stdout",
     "output_type": "stream",
     "text": [
      "Table Created Successfully\n"
     ]
    }
   ],
   "source": [
    "def create_table():\n",
    "    conn=sqlite3.connect('test.db')\n",
    "    cursor=conn.cursor()\n",
    "    cursor.execute('''\n",
    "    CREATE TABLE IF NOT EXISTS employees (\n",
    "            id INTEGER PRIMARY KEY,\n",
    "            name TEXT NOT NULL,\n",
    "            age INTEGER,\n",
    "            department TEXT)''')\n",
    "    conn.commit()\n",
    "    conn.close()\n",
    "    print(\"Table Created Successfully\")\n",
    "\n",
    "create_table()"
   ]
  },
  {
   "cell_type": "markdown",
   "id": "434319b5",
   "metadata": {},
   "source": [
    "\n",
    "### Assignment 2: Inserting Data\n",
    "\n",
    "1. Write a Python function to insert a new employee into the `employees` table.\n"
   ]
  },
  {
   "cell_type": "code",
   "execution_count": 9,
   "id": "5405e742",
   "metadata": {},
   "outputs": [],
   "source": [
    "\n",
    "def insert_employee(id, name, age, department):\n",
    "    try:\n",
    "        conn = sqlite3.connect('test.db')\n",
    "        cursor = conn.cursor()\n",
    "        cursor.execute('''\n",
    "            INSERT INTO employees (id, name, age, department)\n",
    "            VALUES (?, ?, ?, ?)\n",
    "        ''', (id, name, age, department))\n",
    "        conn.commit()\n",
    "    except Exception as e:\n",
    "        print(f\"Error: {e}\")\n",
    "    finally:\n",
    "        if conn:\n",
    "            conn.close()  # Ensure connection is always closed\n",
    "\n",
    "insert_employee(21, 'Alice', 30, 'HR')\n"
   ]
  },
  {
   "cell_type": "markdown",
   "id": "92aa00c4",
   "metadata": {},
   "source": [
    "2. Insert at least 5 different employees into the `employees` table.\n"
   ]
  },
  {
   "cell_type": "code",
   "execution_count": 10,
   "id": "2c38a070",
   "metadata": {},
   "outputs": [],
   "source": [
    "insert_employee(22,'Jhon',32,'Sales')\n",
    "insert_employee(42,'Joy',33,'Management')\n",
    "insert_employee(12,'Jhonny',22,'Science')\n",
    "insert_employee(19,'Jerry',41,'Agri')"
   ]
  },
  {
   "cell_type": "markdown",
   "id": "165fc53e",
   "metadata": {},
   "source": [
    "\n",
    "### Assignment 3: Querying Data\n",
    "\n",
    "1. Write a Python function to fetch and display all records from the `employees` table.\n"
   ]
  },
  {
   "cell_type": "code",
   "execution_count": 4,
   "id": "b12c12de",
   "metadata": {},
   "outputs": [
    {
     "name": "stdout",
     "output_type": "stream",
     "text": [
      "(2, 'Jhon', 26, 'Sales')\n",
      "(8, 'Jhonny', 22, 'Research')\n",
      "(11, 'Jerry', 41, 'Agri')\n",
      "(19, 'Jerry', 41, 'HR')\n",
      "(21, 'Alice', 30, 'Tax')\n",
      "(42, 'Joy', 33, 'Marketing')\n",
      "(47, 'Grace', 29, 'Engineering')\n",
      "(59, 'Ivan', 38, 'Sales')\n",
      "(61, 'Frank', 40, 'Finance')\n",
      "(87, 'Hannah', 35, 'Marketing')\n"
     ]
    }
   ],
   "source": [
    "def display_employees():\n",
    "    conn = sqlite3.connect('test.db')\n",
    "    cursor = conn.cursor()\n",
    "    cursor.execute('SELECT * FROM employees')\n",
    "    records = cursor.fetchall()\n",
    "    conn.close()\n",
    "    for record in records:\n",
    "        print(record)\n",
    "\n",
    "# Example usage\n",
    "display_employees()"
   ]
  },
  {
   "cell_type": "markdown",
   "id": "e6552764",
   "metadata": {},
   "source": [
    "2. Write a Python function to fetch and display all employees from a specific department.\n"
   ]
  },
  {
   "cell_type": "code",
   "execution_count": 28,
   "id": "9d0527f3",
   "metadata": {},
   "outputs": [
    {
     "name": "stdout",
     "output_type": "stream",
     "text": [
      "(1, 'Alice', 30, 'HR')\n",
      "(21, 'Alice', 30, 'HR')\n",
      "(2, 'Jhon', 32, 'Sales')\n",
      "(22, 'Jhon', 32, 'Sales')\n"
     ]
    }
   ],
   "source": [
    "def display_employees_by_department(department):\n",
    "    conn=sqlite3.connect('test.db')\n",
    "    cursor=conn.cursor()\n",
    "    cursor.execute('Select * FROM employees where department=?',(department,))\n",
    "    records=cursor.fetchall()\n",
    "    conn.close()\n",
    "    for record in records:\n",
    "        print(record)\n",
    "\n",
    "display_employees_by_department('HR')\n",
    "display_employees_by_department('Sales')"
   ]
  },
  {
   "cell_type": "markdown",
   "id": "bae5dfee",
   "metadata": {},
   "source": [
    "\n",
    "### Assignment 4: Updating Data\n",
    "\n",
    "1. Write a Python function to update the department of an employee based on their `id`.\n"
   ]
  },
  {
   "cell_type": "code",
   "execution_count": 42,
   "id": "29c6be45",
   "metadata": {},
   "outputs": [
    {
     "name": "stdout",
     "output_type": "stream",
     "text": [
      "(1, 'Alice', 30, 'HR')\n",
      "(2, 'Jhon', 32, 'Sales')\n",
      "(4, 'Joy', 33, 'Management')\n",
      "(8, 'Jhonny', 22, 'Science')\n",
      "(11, 'Jerry', 41, 'Agri')\n",
      "(12, 'Jhonny', 22, 'Science')\n",
      "(19, 'Jerry', 41, 'Agri')\n",
      "(21, 'Alice', 30, 'Tax')\n",
      "(22, 'Jhon', 32, 'Sales')\n",
      "(42, 'Joy', 33, 'Management')\n"
     ]
    }
   ],
   "source": [
    "def update_department(id,new_department):\n",
    "    conn=sqlite3.connect('test.db')\n",
    "    cursor=conn.cursor()\n",
    "    cursor.execute('''\n",
    "    UPDATE employees\n",
    "    SET department = ?\n",
    "    WHERE id = ?\n",
    "    ''',(new_department,id))\n",
    "    conn.commit()\n",
    "    conn.close()\n",
    "\n",
    "update_department(21,'Tax')\n",
    "display_employees()"
   ]
  },
  {
   "cell_type": "markdown",
   "id": "b9ffd076",
   "metadata": {},
   "source": [
    "2. Update the department of at least 2 employees and display the updated records.\n"
   ]
  },
  {
   "cell_type": "code",
   "execution_count": 43,
   "id": "1655bc1e",
   "metadata": {},
   "outputs": [
    {
     "name": "stdout",
     "output_type": "stream",
     "text": [
      "(1, 'Alice', 30, 'HR')\n",
      "(2, 'Jhon', 32, 'Sales')\n",
      "(4, 'Joy', 33, 'Management')\n",
      "(8, 'Jhonny', 22, 'Research')\n",
      "(11, 'Jerry', 41, 'Agri')\n",
      "(12, 'Jhonny', 22, 'Science')\n",
      "(19, 'Jerry', 41, 'HR')\n",
      "(21, 'Alice', 30, 'Tax')\n",
      "(22, 'Jhon', 32, 'Sales')\n",
      "(42, 'Joy', 33, 'Marketing')\n"
     ]
    }
   ],
   "source": [
    "update_department(42,'Marketing')\n",
    "update_department(19,'HR')\n",
    "update_department(8,'Research')\n",
    "display_employees()"
   ]
  },
  {
   "cell_type": "markdown",
   "id": "447136de",
   "metadata": {},
   "source": [
    "\n",
    "### Assignment 5: Deleting Data\n",
    "\n",
    "1. Write a Python function to delete an employee from the `employees` table based on their `id`.\n"
   ]
  },
  {
   "cell_type": "code",
   "execution_count": 8,
   "id": "4580a7a1",
   "metadata": {},
   "outputs": [
    {
     "ename": "OperationalError",
     "evalue": "database is locked",
     "output_type": "error",
     "traceback": [
      "\u001b[1;31m---------------------------------------------------------------------------\u001b[0m",
      "\u001b[1;31mOperationalError\u001b[0m                          Traceback (most recent call last)",
      "Cell \u001b[1;32mIn[8], line 10\u001b[0m\n\u001b[0;32m      7\u001b[0m     conn\u001b[38;5;241m.\u001b[39mcommit()\n\u001b[0;32m      8\u001b[0m     conn\u001b[38;5;241m.\u001b[39mclose()\n\u001b[1;32m---> 10\u001b[0m \u001b[43mdelete_employee\u001b[49m\u001b[43m(\u001b[49m\u001b[38;5;241;43m22\u001b[39;49m\u001b[43m)\u001b[49m\n\u001b[0;32m     11\u001b[0m display_employees()\n",
      "Cell \u001b[1;32mIn[8], line 4\u001b[0m, in \u001b[0;36mdelete_employee\u001b[1;34m(id)\u001b[0m\n\u001b[0;32m      2\u001b[0m conn\u001b[38;5;241m=\u001b[39msqlite3\u001b[38;5;241m.\u001b[39mconnect(\u001b[38;5;124m'\u001b[39m\u001b[38;5;124mtest.db\u001b[39m\u001b[38;5;124m'\u001b[39m)\n\u001b[0;32m      3\u001b[0m cursor\u001b[38;5;241m=\u001b[39mconn\u001b[38;5;241m.\u001b[39mcursor()\n\u001b[1;32m----> 4\u001b[0m \u001b[43mcursor\u001b[49m\u001b[38;5;241;43m.\u001b[39;49m\u001b[43mexecute\u001b[49m\u001b[43m(\u001b[49m\u001b[38;5;124;43m'''\u001b[39;49m\n\u001b[0;32m      5\u001b[0m \u001b[38;5;124;43mDELETE FROM employees\u001b[39;49m\n\u001b[0;32m      6\u001b[0m \u001b[38;5;124;43mWHERE id = ?\u001b[39;49m\u001b[38;5;124;43m'''\u001b[39;49m\u001b[43m,\u001b[49m\u001b[43m(\u001b[49m\u001b[38;5;28;43mid\u001b[39;49m\u001b[43m,\u001b[49m\u001b[43m)\u001b[49m\u001b[43m)\u001b[49m\n\u001b[0;32m      7\u001b[0m conn\u001b[38;5;241m.\u001b[39mcommit()\n\u001b[0;32m      8\u001b[0m conn\u001b[38;5;241m.\u001b[39mclose()\n",
      "\u001b[1;31mOperationalError\u001b[0m: database is locked"
     ]
    }
   ],
   "source": [
    "def delete_employee(id):\n",
    "    conn=sqlite3.connect('test.db')\n",
    "    cursor=conn.cursor()\n",
    "    cursor.execute('''\n",
    "    DELETE FROM employees\n",
    "    WHERE id = ?''',(id,))\n",
    "    conn.commit()\n",
    "    conn.close()\n",
    "\n",
    "delete_employee(22)\n",
    "display_employees()"
   ]
  },
  {
   "cell_type": "markdown",
   "id": "61e6d7fe",
   "metadata": {},
   "source": [
    "2. Delete at least 1 employee and display the remaining records.\n"
   ]
  },
  {
   "cell_type": "code",
   "execution_count": 9,
   "id": "a36540c8",
   "metadata": {},
   "outputs": [
    {
     "name": "stdout",
     "output_type": "stream",
     "text": [
      "(2, 'Jhon', 32, 'Sales')\n",
      "(8, 'Jhonny', 22, 'Research')\n",
      "(11, 'Jerry', 41, 'Agri')\n",
      "(19, 'Jerry', 41, 'HR')\n",
      "(21, 'Alice', 30, 'Tax')\n",
      "(42, 'Joy', 33, 'Marketing')\n",
      "(47, 'Grace', 29, 'Engineering')\n",
      "(59, 'Ivan', 38, 'Sales')\n",
      "(61, 'Frank', 40, 'Finance')\n",
      "(87, 'Hannah', 35, 'Marketing')\n"
     ]
    }
   ],
   "source": [
    "delete_employee(1)\n",
    "delete_employee(4)\n",
    "delete_employee(12)\n",
    "display_employees()"
   ]
  },
  {
   "cell_type": "markdown",
   "id": "9f90bcd7",
   "metadata": {},
   "source": [
    "\n",
    "### Assignment 6: Advanced Queries\n",
    "\n",
    "1. Write a Python function to fetch and display employees older than a certain age.\n"
   ]
  },
  {
   "cell_type": "code",
   "execution_count": 6,
   "id": "7c200ba2",
   "metadata": {},
   "outputs": [
    {
     "name": "stdout",
     "output_type": "stream",
     "text": [
      "(2, 'Jhon', 32, 'Sales')\n",
      "(11, 'Jerry', 41, 'Agri')\n",
      "(19, 'Jerry', 41, 'HR')\n",
      "(42, 'Joy', 33, 'Marketing')\n",
      "(59, 'Ivan', 38, 'Sales')\n",
      "(61, 'Frank', 40, 'Finance')\n",
      "(87, 'Hannah', 35, 'Marketing')\n"
     ]
    }
   ],
   "source": [
    "def employee_above_age(age):\n",
    "    conn=sqlite3.connect('test.db')\n",
    "    cursor=conn.cursor()\n",
    "    cursor.execute('''\n",
    "    SELECT * FROM employees WHERE age > ?''',(age,))\n",
    "    records=cursor.fetchall()\n",
    "    conn.close()\n",
    "    for record in records:\n",
    "        print(record)\n",
    "\n",
    "employee_above_age(30)\n"
   ]
  },
  {
   "cell_type": "markdown",
   "id": "7987f118",
   "metadata": {},
   "source": [
    "2. Write a Python function to fetch and display employees whose names start with a specific letter.\n"
   ]
  },
  {
   "cell_type": "code",
   "execution_count": 5,
   "id": "c589ddb7",
   "metadata": {},
   "outputs": [],
   "source": [
    "def employee_name_start_with(letter):\n",
    "    conn=sqlite3.connect('test.db')\n",
    "    cursor=conn.cursor()\n",
    "    cursor.execute('SELECT * FROM employees WHERE name Like ?',(letter + '%',))\n",
    "    records=cursor.fetchall()\n",
    "    conn.close()\n",
    "    for record in records:\n",
    "        print(record)\n",
    "\n",
    "employee_name_start_with('K')\n"
   ]
  },
  {
   "cell_type": "markdown",
   "id": "b9073166",
   "metadata": {},
   "source": [
    "\n",
    "### Assignment 7: Handling Transactions\n",
    "\n",
    "1. Write a Python function to insert multiple employees into the `employees` table in a single transaction. Ensure that if any insertion fails, none of the insertions are committed.\n"
   ]
  },
  {
   "cell_type": "code",
   "execution_count": null,
   "id": "11c8bae9",
   "metadata": {},
   "outputs": [],
   "source": [
    "import sqlite3\n",
    "def insert_multiple_employees(employees):\n",
    "    conn=sqlite3.connect('test.db')\n",
    "    cursor=conn.cursor()\n",
    "    cursor.executemany('''\n",
    "        INSERT INTO employees(id,name,age,department)\n",
    "        Values(?,?,?,?)''',employees)\n",
    "    conn.commit()\n",
    "    conn.close()\n",
    "\n",
    "employees = [\n",
    "    (61, 'Frank', 40, 'Finance'),\n",
    "    (47, 'Grace', 29, 'Engineering'),\n",
    "    (87, 'Hannah', 35, 'Marketing'),\n",
    "    (59, 'Ivan', 38, 'Sales'),\n",
    "]\n",
    "\n",
    "insert_multiple_employees(employees)\n",
    "    "
   ]
  },
  {
   "cell_type": "code",
   "execution_count": 11,
   "id": "604307d1",
   "metadata": {},
   "outputs": [
    {
     "name": "stdout",
     "output_type": "stream",
     "text": [
      "(2, 'Jhon', 32, 'Sales')\n",
      "(8, 'Jhonny', 22, 'Research')\n",
      "(11, 'Jerry', 41, 'Agri')\n",
      "(19, 'Jerry', 41, 'HR')\n",
      "(21, 'Alice', 30, 'Tax')\n",
      "(42, 'Joy', 33, 'Marketing')\n",
      "(47, 'Grace', 29, 'Engineering')\n",
      "(59, 'Ivan', 38, 'Sales')\n",
      "(61, 'Frank', 40, 'Finance')\n",
      "(87, 'Hannah', 35, 'Marketing')\n"
     ]
    }
   ],
   "source": [
    "display_employees()"
   ]
  },
  {
   "cell_type": "markdown",
   "id": "970f6c6a",
   "metadata": {},
   "source": [
    "2. Write a Python function to update the age of multiple employees in a single transaction. Ensure that if any update fails, none of the updates are committed.\n"
   ]
  },
  {
   "cell_type": "code",
   "execution_count": 3,
   "id": "8de52225",
   "metadata": {},
   "outputs": [
    {
     "ename": "NameError",
     "evalue": "name 'display_employees' is not defined",
     "output_type": "error",
     "traceback": [
      "\u001b[1;31m---------------------------------------------------------------------------\u001b[0m",
      "\u001b[1;31mNameError\u001b[0m                                 Traceback (most recent call last)",
      "Cell \u001b[1;32mIn[3], line 21\u001b[0m\n\u001b[0;32m     13\u001b[0m updates \u001b[38;5;241m=\u001b[39m [\n\u001b[0;32m     14\u001b[0m     (\u001b[38;5;241m32\u001b[39m, \u001b[38;5;241m1\u001b[39m),\n\u001b[0;32m     15\u001b[0m     (\u001b[38;5;241m26\u001b[39m, \u001b[38;5;241m2\u001b[39m),\n\u001b[1;32m   (...)\u001b[0m\n\u001b[0;32m     18\u001b[0m     (\u001b[38;5;241m23\u001b[39m, \u001b[38;5;241m5\u001b[39m)\n\u001b[0;32m     19\u001b[0m ]\n\u001b[0;32m     20\u001b[0m update_multiple_employee_age(updates)\n\u001b[1;32m---> 21\u001b[0m \u001b[43mdisplay_employees\u001b[49m()\n",
      "\u001b[1;31mNameError\u001b[0m: name 'display_employees' is not defined"
     ]
    }
   ],
   "source": [
    "import sqlite3\n",
    "def update_multiple_employee_age(updates):\n",
    "    conn=sqlite3.connect('test.db')\n",
    "    cursor=conn.cursor()\n",
    "    cursor.executemany('''\n",
    "    UPDATE employees\n",
    "    SET age = ?\n",
    "    WHERE id = ?\n",
    "    ''',updates)\n",
    "    conn.commit()\n",
    "    conn.close()\n",
    "\n",
    "updates = [\n",
    "    (32, 1),\n",
    "    (26, 2),\n",
    "    (33, 3),\n",
    "    (41, 4),  # Non-existing ID to cause an error\n",
    "    (23, 5)\n",
    "]\n",
    "update_multiple_employee_age(updates)\n",
    "display_employees()"
   ]
  },
  {
   "cell_type": "markdown",
   "id": "9325ca8b",
   "metadata": {},
   "source": [
    "\n",
    "### Assignment 8: Creating Relationships\n",
    "\n",
    "1. Create a new table named `departments` with columns `id` (integer) and `name` (text).\n"
   ]
  },
  {
   "cell_type": "markdown",
   "id": "d832f0ac",
   "metadata": {},
   "source": [
    "2. Modify the `employees` table to include a foreign key referencing the `id` column in the `departments` table.\n"
   ]
  },
  {
   "cell_type": "markdown",
   "id": "2107983b",
   "metadata": {},
   "source": [
    "3. Write a Python function to insert data into both the `departments` and `employees` tables, ensuring referential integrity.\n"
   ]
  },
  {
   "cell_type": "markdown",
   "id": "9d25e4d2",
   "metadata": {},
   "source": [
    "\n",
    "### Assignment 9: Indexing and Optimization\n",
    "\n",
    "1. Create an index on the `name` column of the `employees` table.\n"
   ]
  },
  {
   "cell_type": "markdown",
   "id": "8bd2273a",
   "metadata": {},
   "source": [
    "2. Write a Python function to fetch and display all employees whose names start with a specific letter. Compare the performance with and without the index.\n"
   ]
  },
  {
   "cell_type": "markdown",
   "id": "4e7e82f9",
   "metadata": {},
   "source": [
    "\n",
    "### Assignment 10: Backing Up and Restoring Data\n",
    "\n",
    "1. Write a Python function to back up the `test.db` database to a file named `backup.db`.\n"
   ]
  },
  {
   "cell_type": "markdown",
   "id": "60399e8f",
   "metadata": {},
   "source": [
    "2. Write a Python function to restore the `test.db` database from the `backup.db` file."
   ]
  },
  {
   "cell_type": "code",
   "execution_count": null,
   "metadata": {},
   "outputs": [],
   "source": []
  }
 ],
 "metadata": {
  "kernelspec": {
   "display_name": "Python 3",
   "language": "python",
   "name": "python3"
  },
  "language_info": {
   "codemirror_mode": {
    "name": "ipython",
    "version": 3
   },
   "file_extension": ".py",
   "mimetype": "text/x-python",
   "name": "python",
   "nbconvert_exporter": "python",
   "pygments_lexer": "ipython3",
   "version": "3.10.0"
  }
 },
 "nbformat": 4,
 "nbformat_minor": 5
}
