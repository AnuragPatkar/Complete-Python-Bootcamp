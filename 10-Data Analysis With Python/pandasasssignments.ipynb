{
 "cells": [
  {
   "cell_type": "markdown",
   "metadata": {},
   "source": [
    "# Module: Pandas Assignments\n",
    "## Lesson: Pandas\n",
    "### Assignment 1: DataFrame Creation and Indexing\n",
    "\n",
    "1. Create a Pandas DataFrame with 4 columns and 6 rows filled with random integers. Set the index to be the first column.\n"
   ]
  },
  {
   "cell_type": "code",
   "execution_count": 8,
   "id": "56e2ec83",
   "metadata": {},
   "outputs": [
    {
     "name": "stdout",
     "output_type": "stream",
     "text": [
      "Original:\n",
      "   A  B   C  D  E   F\n",
      "0  2  1  10  5  7   3\n",
      "1  8  3   5  4  7   6\n",
      "2  1  9   5  5  4  10\n",
      "3  7  8   1  5  7   9\n",
      "Data frame with new index:\n",
      "   B   C  D  E   F\n",
      "A                 \n",
      "2  1  10  5  7   3\n",
      "8  3   5  4  7   6\n",
      "1  9   5  5  4  10\n",
      "7  8   1  5  7   9\n"
     ]
    }
   ],
   "source": [
    "import numpy as np\n",
    "import pandas as pd\n",
    "\n",
    "df=pd.DataFrame(np.random.randint(1 ,11 ,size=(4,6)), columns=['A','B','C','D','E','F'])\n",
    "print(\"Original:\")\n",
    "print(df)\n",
    "\n",
    "df.set_index('A',inplace=True)\n",
    "print(\"Data frame with new index:\")\n",
    "print(df)"
   ]
  },
  {
   "cell_type": "markdown",
   "id": "8e026e2e",
   "metadata": {},
   "source": [
    "2. Create a Pandas DataFrame with columns 'A', 'B', 'C' and index 'X', 'Y', 'Z'. Fill the DataFrame with random integers and access the element at row 'Y' and column 'B'.\n"
   ]
  },
  {
   "cell_type": "code",
   "execution_count": 12,
   "id": "a6db1922",
   "metadata": {},
   "outputs": [
    {
     "name": "stdout",
     "output_type": "stream",
     "text": [
      "    A   B   C\n",
      "X  52  13  26\n",
      "Y  96  41  47\n",
      "Z  74  96  92\n",
      "Element of Y row and coloum B:\n",
      "41\n",
      "Element at row 'Y' and column 'B': 41\n"
     ]
    }
   ],
   "source": [
    "columns=['A','B','C']\n",
    "index=['X','Y','Z']\n",
    "df=pd.DataFrame(np.random.randint(1,100,size=(3,3)), columns=columns,index=index)\n",
    "print(df)\n",
    "\n",
    "print(\"Element of Y row and coloum B:\")\n",
    "print(df.B.Y)\n",
    "\n",
    "element = df.at['Y', 'B']\n",
    "print(\"Element at row 'Y' and column 'B':\", element)"
   ]
  },
  {
   "cell_type": "markdown",
   "id": "310f021a",
   "metadata": {},
   "source": [
    "\n",
    "### Assignment 2: DataFrame Operations\n",
    "\n",
    "1. Create a Pandas DataFrame with 3 columns and 5 rows filled with random integers. Add a new column that is the product of the first two columns.\n"
   ]
  },
  {
   "cell_type": "code",
   "execution_count": 18,
   "id": "e052854b",
   "metadata": {},
   "outputs": [
    {
     "name": "stdout",
     "output_type": "stream",
     "text": [
      "    A   B   C\n",
      "0  57   9  18\n",
      "1  35   1  31\n",
      "2  99  69   4\n",
      "3  74  51  44\n",
      "4  60  54  23\n",
      "DataFrame with new column:\n",
      "    A   B   C     D\n",
      "0  57   9  18   513\n",
      "1  35   1  31    35\n",
      "2  99  69   4  6831\n",
      "3  74  51  44  3774\n",
      "4  60  54  23  3240\n"
     ]
    }
   ],
   "source": [
    "df=pd.DataFrame(np.random.randint(1,100,size=(5,3)),columns=['A','B','C'])\n",
    "print(df)\n",
    "df['D'] = df['A'] * df['B']\n",
    "print(\"DataFrame with new column:\")\n",
    "print(df)"
   ]
  },
  {
   "cell_type": "markdown",
   "id": "3eddac90",
   "metadata": {},
   "source": [
    "2. Create a Pandas DataFrame with 3 columns and 4 rows filled with random integers. Compute the row-wise and column-wise sum.\n"
   ]
  },
  {
   "cell_type": "code",
   "execution_count": 21,
   "id": "0028fb33",
   "metadata": {},
   "outputs": [
    {
     "name": "stdout",
     "output_type": "stream",
     "text": [
      "    A   B   C\n",
      "0  53  36  85\n",
      "1  41  85  60\n",
      "2  68  54   6\n",
      "3  49  95  88\n",
      "Row_sum:\n",
      " 0    174\n",
      "1    186\n",
      "2    128\n",
      "3    232\n",
      "dtype: int64\n",
      "Coloum_sum:\n",
      " A    211\n",
      "B    270\n",
      "C    239\n",
      "dtype: int64\n"
     ]
    }
   ],
   "source": [
    "df=pd.DataFrame(np.random.randint(1,100,size=(4,3)),columns=['A','B','C'])\n",
    "print(df)\n",
    "row_sum=df.sum(axis=1)\n",
    "coloum_sum=df.sum(axis=0)\n",
    "\n",
    "print(\"Row_sum:\\n\",row_sum)\n",
    "print(\"Coloum_sum:\\n\",coloum_sum)"
   ]
  },
  {
   "cell_type": "markdown",
   "id": "288e69e0",
   "metadata": {},
   "source": [
    "\n",
    "### Assignment 3: Data Cleaning\n",
    "\n",
    "1. Create a Pandas DataFrame with 3 columns and 5 rows filled with random integers. Introduce some NaN values. Fill the NaN values with the mean of the respective columns.\n"
   ]
  },
  {
   "cell_type": "code",
   "execution_count": 24,
   "id": "bcd9599a",
   "metadata": {},
   "outputs": [
    {
     "name": "stdout",
     "output_type": "stream",
     "text": [
      "    A   B   C\n",
      "0  62  10  89\n",
      "1  95  67  53\n",
      "2  83  96  26\n",
      "3  23  14  18\n",
      "4  62  48  51\n",
      "DataFrame with NaN values:\n",
      "      A     B     C\n",
      "0  62.0   NaN  89.0\n",
      "1  95.0  67.0  53.0\n",
      "2  83.0  96.0   NaN\n",
      "3  23.0  14.0  18.0\n",
      "4   NaN  48.0  51.0\n",
      "       A      B      C\n",
      "0  62.00  56.25  89.00\n",
      "1  95.00  67.00  53.00\n",
      "2  83.00  96.00  52.75\n",
      "3  23.00  14.00  18.00\n",
      "4  65.75  48.00  51.00\n"
     ]
    }
   ],
   "source": [
    "df=pd.DataFrame(np.random.randint(1,100,size=(5,3)),columns=['A','B','C'])\n",
    "print(df)\n",
    "\n",
    "df.iloc[0, 1] = np.nan\n",
    "df.iloc[2, 2] = np.nan\n",
    "df.iloc[4, 0] = np.nan\n",
    "print(\"DataFrame with NaN values:\")\n",
    "print(df)\n",
    "\n",
    "df.fillna(df.mean(),inplace=True)\n",
    "print(df)"
   ]
  },
  {
   "cell_type": "markdown",
   "id": "0d2a964b",
   "metadata": {},
   "source": [
    "2. Create a Pandas DataFrame with 4 columns and 6 rows filled with random integers. Introduce some NaN values. Drop the rows with any NaN values.\n"
   ]
  },
  {
   "cell_type": "code",
   "execution_count": 30,
   "id": "e26d4a91",
   "metadata": {},
   "outputs": [
    {
     "name": "stdout",
     "output_type": "stream",
     "text": [
      "    A   B   C   D\n",
      "0  52  30  31  68\n",
      "1  39  87   1  24\n",
      "2  55  92  56  61\n",
      "3  78  81  32  23\n",
      "4  59  99  30  55\n",
      "5  71   1   4  12\n",
      "    A     B     C     D\n",
      "0  52   NaN  31.0  68.0\n",
      "1  39  87.0   1.0   NaN\n",
      "2  55  92.0  56.0  61.0\n",
      "3  78  81.0  32.0  23.0\n",
      "4  59  99.0   NaN  55.0\n",
      "5  71   1.0   4.0  12.0\n",
      "Drop the row with None value:\n",
      "    A     B     C     D\n",
      "2  55  92.0  56.0  61.0\n",
      "3  78  81.0  32.0  23.0\n",
      "5  71   1.0   4.0  12.0\n"
     ]
    }
   ],
   "source": [
    "df=pd.DataFrame(np.random.randint(1,100,size=(6,4)),columns=['A','B','C','D'])\n",
    "print(df)\n",
    "df.iloc[0,1]=np.nan\n",
    "df.iloc[1,3]=np.nan\n",
    "df.iloc[4,2]=np.nan\n",
    "print(df)\n",
    "\n",
    "df.dropna(inplace=True)\n",
    "print(\"Drop the row with None value:\")\n",
    "print(df)"
   ]
  },
  {
   "cell_type": "markdown",
   "id": "fcc47daf",
   "metadata": {},
   "source": [
    "\n",
    "### Assignment 4: Data Aggregation\n",
    "\n",
    "1. Create a Pandas DataFrame with 2 columns: 'Category' and 'Value'. Fill the 'Category' column with random categories ('A', 'B', 'C') and the 'Value' column with random integers. Group the DataFrame by 'Category' and compute the sum and mean of 'Value' for each category.\n"
   ]
  },
  {
   "cell_type": "code",
   "execution_count": 39,
   "id": "836be827",
   "metadata": {},
   "outputs": [
    {
     "name": "stdout",
     "output_type": "stream",
     "text": [
      "  Category  Value\n",
      "0        A     14\n",
      "1        A     64\n",
      "2        A     33\n",
      "3        B     91\n",
      "4        A     52\n",
      "5        B     74\n",
      "6        B     71\n",
      "7        A     77\n",
      "8        C     84\n",
      "9        B     47\n",
      "          sum   mean\n",
      "Category            \n",
      "A         240  48.00\n",
      "B         283  70.75\n",
      "C          84  84.00\n"
     ]
    }
   ],
   "source": [
    "df=pd.DataFrame({'Category':np.random.choice(['A','B','C'],size=10),'Value':np.random.randint(1,100,size=10)})\n",
    "print(df)\n",
    "\n",
    "grouped=df.groupby('Category')['Value'].agg(['sum','mean'])\n",
    "print(grouped)"
   ]
  },
  {
   "cell_type": "markdown",
   "id": "07f3b042",
   "metadata": {},
   "source": [
    "2. Create a Pandas DataFrame with 3 columns: 'Product', 'Category', and 'Sales'. Fill the DataFrame with random data. Group the DataFrame by 'Category' and compute the total sales for each category.\n"
   ]
  },
  {
   "cell_type": "code",
   "execution_count": 42,
   "id": "482bd55f",
   "metadata": {},
   "outputs": [
    {
     "name": "stdout",
     "output_type": "stream",
     "text": [
      "  Product Category  Sales\n",
      "0   Prod3        B     77\n",
      "1   Prod1        B     17\n",
      "2   Prod1        C     18\n",
      "3   Prod1        B     31\n",
      "4   Prod3        C     32\n",
      "5   Prod2        C      5\n",
      "6   Prod3        B     77\n",
      "7   Prod3        A     75\n",
      "8   Prod1        C     37\n",
      "9   Prod1        B     86\n",
      "Category\n",
      "A     75\n",
      "B    288\n",
      "C     92\n",
      "Name: Sales, dtype: int32\n"
     ]
    }
   ],
   "source": [
    "df = pd.DataFrame({'Product': np.random.choice(['Prod1', 'Prod2', 'Prod3'], size=10), 'Category': np.random.choice(['A', 'B', 'C'], size=10), 'Sales': np.random.randint(1, 100, size=10)})\n",
    "print(df)\n",
    "\n",
    "grouped=df.groupby('Category')['Sales'].sum()\n",
    "print(grouped)"
   ]
  },
  {
   "cell_type": "markdown",
   "id": "616c96a8",
   "metadata": {},
   "source": [
    "\n",
    "### Assignment 5: Merging DataFrames\n",
    "\n",
    "1. Create two Pandas DataFrames with a common column. Merge the DataFrames using the common column.\n"
   ]
  },
  {
   "cell_type": "code",
   "execution_count": 46,
   "id": "ab72710d",
   "metadata": {},
   "outputs": [
    {
     "name": "stdout",
     "output_type": "stream",
     "text": [
      "  key  Value1\n",
      "0   A      71\n",
      "1   B      81\n",
      "2   C      64\n",
      "3   D      38\n",
      "  key  Value2\n",
      "0   A      74\n",
      "1   B       8\n",
      "2   C      98\n",
      "3   D      48\n",
      "  key  Value1  Value2\n",
      "0   A      71      74\n",
      "1   B      81       8\n",
      "2   C      64      98\n",
      "3   D      38      48\n"
     ]
    }
   ],
   "source": [
    "df1=pd.DataFrame({'key':['A','B','C','D'],'Value1':np.random.randint(1,100,size=4)})\n",
    "df2=pd.DataFrame({'key':['A','B','C','D'],'Value2':np.random.randint(1,100,size=4)})\n",
    "print(df1)\n",
    "print(df2)\n",
    "\n",
    "merge=pd.merge(df1,df2,on='key')\n",
    "print(merge)"
   ]
  },
  {
   "cell_type": "markdown",
   "id": "aa126413",
   "metadata": {},
   "source": [
    "2. Create two Pandas DataFrames with different columns. Concatenate the DataFrames along the rows and along the columns.\n"
   ]
  },
  {
   "cell_type": "code",
   "execution_count": 50,
   "id": "9d7acb4a",
   "metadata": {},
   "outputs": [
    {
     "name": "stdout",
     "output_type": "stream",
     "text": [
      "  key1  Value1\n",
      "0    A      49\n",
      "1    B       2\n",
      "2    C      62\n",
      "3    D      15\n",
      "  key2  Value2\n",
      "0    A      52\n",
      "1    B      48\n",
      "2    C      74\n",
      "3    D      94\n",
      "  key1  Value1 key2  Value2\n",
      "0    A    49.0  NaN     NaN\n",
      "1    B     2.0  NaN     NaN\n",
      "2    C    62.0  NaN     NaN\n",
      "3    D    15.0  NaN     NaN\n",
      "0  NaN     NaN    A    52.0\n",
      "1  NaN     NaN    B    48.0\n",
      "2  NaN     NaN    C    74.0\n",
      "3  NaN     NaN    D    94.0\n",
      "  key1  Value1 key2  Value2\n",
      "0    A      49    A      52\n",
      "1    B       2    B      48\n",
      "2    C      62    C      74\n",
      "3    D      15    D      94\n"
     ]
    }
   ],
   "source": [
    "df1=pd.DataFrame({'key1':['A','B','C','D'],'Value1':np.random.randint(1,100,size=4)})\n",
    "df2=pd.DataFrame({'key2':['A','B','C','D'],'Value2':np.random.randint(1,100,size=4)})\n",
    "print(df1)\n",
    "print(df2)\n",
    "\n",
    "concat_row=pd.concat([df1,df2],axis=0)\n",
    "print(concat_row)\n",
    "\n",
    "concat_coloum=pd.concat([df1,df2],axis=1)\n",
    "print(concat_coloum)"
   ]
  },
  {
   "cell_type": "markdown",
   "id": "1b9efd2b",
   "metadata": {},
   "source": [
    "\n",
    "### Assignment 6: Time Series Analysis\n",
    "\n",
    "1. Create a Pandas DataFrame with a datetime index and one column filled with random integers. Resample the DataFrame to compute the monthly mean of the values.\n"
   ]
  },
  {
   "cell_type": "code",
   "execution_count": 54,
   "id": "f85ed39d",
   "metadata": {},
   "outputs": [
    {
     "name": "stdout",
     "output_type": "stream",
     "text": [
      "            data\n",
      "date            \n",
      "2022-01-01    33\n",
      "2022-01-02    60\n",
      "2022-01-03    31\n",
      "2022-01-04    58\n",
      "2022-01-05    15\n",
      "...          ...\n",
      "2022-12-27    40\n",
      "2022-12-28    94\n",
      "2022-12-29    99\n",
      "2022-12-30    28\n",
      "2022-12-31    24\n",
      "\n",
      "[365 rows x 1 columns]\n",
      "Monthly Mean DataFrame:\n",
      "                 data\n",
      "date                 \n",
      "2022-01-31  49.451613\n",
      "2022-02-28  58.071429\n",
      "2022-03-31  47.290323\n",
      "2022-04-30  53.566667\n",
      "2022-05-31  47.612903\n",
      "2022-06-30  53.433333\n",
      "2022-07-31  51.290323\n",
      "2022-08-31  53.419355\n",
      "2022-09-30  41.800000\n",
      "2022-10-31  47.032258\n",
      "2022-11-30  48.466667\n",
      "2022-12-31  48.161290\n"
     ]
    },
    {
     "name": "stderr",
     "output_type": "stream",
     "text": [
      "C:\\Users\\ANURAG PATKAR\\AppData\\Local\\Temp\\ipykernel_1980\\1754502839.py:7: FutureWarning: 'M' is deprecated and will be removed in a future version, please use 'ME' instead.\n",
      "  monthly_mean=df.resample('M').mean()\n"
     ]
    }
   ],
   "source": [
    "date_rng = pd.date_range(start='2022-01-01', end='2022-12-31', freq='D')\n",
    "df = pd.DataFrame(date_rng, columns=['date'])\n",
    "df['data']=np.random.randint(1,100,size=(len(date_rng)))\n",
    "df.set_index('date',inplace=True)\n",
    "print(df)\n",
    "\n",
    "monthly_mean=df.resample('M').mean()\n",
    "print(\"Monthly Mean DataFrame:\")\n",
    "print(monthly_mean)"
   ]
  },
  {
   "cell_type": "markdown",
   "id": "5a52ceb5",
   "metadata": {},
   "source": [
    "2. Create a Pandas DataFrame with a datetime index ranging from '2021-01-01' to '2021-12-31' and one column filled with random integers. Compute the rolling mean with a window of 7 days.\n"
   ]
  },
  {
   "cell_type": "code",
   "execution_count": null,
   "id": "b6cc365b",
   "metadata": {},
   "outputs": [
    {
     "name": "stdout",
     "output_type": "stream",
     "text": [
      "            data\n",
      "date            \n",
      "2021-01-01    72\n",
      "2021-01-02    58\n",
      "2021-01-03    73\n",
      "2021-01-04     5\n",
      "2021-01-05    42\n",
      "...          ...\n",
      "2021-12-27    65\n",
      "2021-12-28    57\n",
      "2021-12-29    42\n",
      "2021-12-30    58\n",
      "2021-12-31    61\n",
      "\n",
      "[365 rows x 1 columns]\n",
      "Rolling Mean:\n",
      "                 data\n",
      "date                 \n",
      "2021-01-01        NaN\n",
      "2021-01-02        NaN\n",
      "2021-01-03        NaN\n",
      "2021-01-04        NaN\n",
      "2021-01-05        NaN\n",
      "...               ...\n",
      "2021-12-27  45.000000\n",
      "2021-12-28  49.000000\n",
      "2021-12-29  47.571429\n",
      "2021-12-30  44.142857\n",
      "2021-12-31  52.571429\n",
      "\n",
      "[365 rows x 1 columns]\n",
      "            data  7 Days Mean\n",
      "date                         \n",
      "2021-01-01    72          NaN\n",
      "2021-01-02    58          NaN\n",
      "2021-01-03    73          NaN\n",
      "2021-01-04     5          NaN\n",
      "2021-01-05    42          NaN\n",
      "...          ...          ...\n",
      "2021-12-27    65    45.000000\n",
      "2021-12-28    57    49.000000\n",
      "2021-12-29    42    47.571429\n",
      "2021-12-30    58    44.142857\n",
      "2021-12-31    61    52.571429\n",
      "\n",
      "[365 rows x 2 columns]\n"
     ]
    }
   ],
   "source": [
    "date_rng=pd.date_range(start='2021-01-01',end='2021-12-31',freq='D')\n",
    "df=pd.DataFrame(date_rng,columns=['date'])\n",
    "df['data']=np.random.randint(1,100,size=len(date_rng))\n",
    "df.set_index('date',inplace=True)\n",
    "print(df)\n",
    "\n",
    "rolling_mean=df.rolling(window=7).mean()\n",
    "print(\"Rolling Mean:\")\n",
    "print(rolling_mean)\n"
   ]
  },
  {
   "cell_type": "markdown",
   "id": "8a46fd87",
   "metadata": {},
   "source": [
    "\n",
    "### Assignment 7: MultiIndex DataFrame\n",
    "\n",
    "1. Create a Pandas DataFrame with a MultiIndex (hierarchical index). Perform some basic indexing and slicing operations on the MultiIndex DataFrame.\n"
   ]
  },
  {
   "cell_type": "code",
   "execution_count": 65,
   "id": "242481d4",
   "metadata": {},
   "outputs": [
    {
     "name": "stdout",
     "output_type": "stream",
     "text": [
      "MultiIndex DataFrame\n",
      "                      Value1  Value2  Value3\n",
      "Category Subcategory                        \n",
      "A        one              60      54      67\n",
      "         two              68      75      52\n",
      "B        one              54      28       4\n",
      "         two              48      32      13\n",
      "Indexing in Category A\n",
      "             Value1  Value2  Value3\n",
      "Subcategory                        \n",
      "one              60      54      67\n",
      "two              68      75      52\n",
      "Slicing at Category 'B' and SubCategory 'two':\n",
      "Value1    48\n",
      "Value2    32\n",
      "Value3    13\n",
      "Name: (B, two), dtype: int32\n"
     ]
    }
   ],
   "source": [
    "arrays=[['A','A','B','B'],['one','two','one','two']]\n",
    "index=pd.MultiIndex.from_arrays(arrays,names=('Category','Subcategory'))\n",
    "df=pd.DataFrame(np.random.randint(1,100,size=(4,3)),index=index,columns=(['Value1','Value2','Value3']))\n",
    "print(\"MultiIndex DataFrame\")\n",
    "print(df)\n",
    "\n",
    "print(\"Indexing in Category A\")\n",
    "print(df.loc['A'])\n",
    "\n",
    "print(\"Slicing at Category 'B' and SubCategory 'two':\")\n",
    "print(df.loc[('B', 'two')])"
   ]
  },
  {
   "cell_type": "markdown",
   "id": "cff59d3e",
   "metadata": {},
   "source": [
    "2. Create a Pandas DataFrame with MultiIndex consisting of 'Category' and 'SubCategory'. Fill the DataFrame with random data and compute the sum of values for each 'Category' and 'SubCategory'.\n"
   ]
  },
  {
   "cell_type": "code",
   "execution_count": 77,
   "id": "0b74e8f8",
   "metadata": {},
   "outputs": [
    {
     "name": "stdout",
     "output_type": "stream",
     "text": [
      "                      Value1  Value2  Value3\n",
      "Category SubCategory                        \n",
      "A        one              63      70      53\n",
      "         two              59      47      20\n",
      "B        one               7      68      70\n",
      "         two              69      28      84\n",
      "Sum of Values:\n",
      "                      Value1  Value2  Value3\n",
      "Category SubCategory                        \n",
      "A        one              63      70      53\n",
      "         two              59      47      20\n",
      "B        one               7      68      70\n",
      "         two              69      28      84\n"
     ]
    }
   ],
   "source": [
    "arrays=[['A','A','B','B'],['one','two','one','two']]\n",
    "index=pd.MultiIndex.from_arrays(arrays,names=('Category','SubCategory'))\n",
    "df=pd.DataFrame(np.random.randint(1,100,size=(4,3)),index=index,columns=(['Value1','Value2','Value3']))\n",
    "print(df)\n",
    "\n",
    "sum_values=df.groupby(['Category','SubCategory']).sum()\n",
    "print(\"Sum of Values:\")\n",
    "print(sum_values)"
   ]
  },
  {
   "cell_type": "markdown",
   "id": "0c327923",
   "metadata": {},
   "source": [
    "\n",
    "### Assignment 8: Pivot Tables\n",
    "\n",
    "1. Create a Pandas DataFrame with columns 'Date', 'Category', and 'Value'. Create a pivot table to compute the sum of 'Value' for each 'Category' by 'Date'.\n"
   ]
  },
  {
   "cell_type": "code",
   "execution_count": 84,
   "id": "6ffeb7f8",
   "metadata": {},
   "outputs": [
    {
     "name": "stdout",
     "output_type": "stream",
     "text": [
      "         Date Category  Value\n",
      "0  2025-01-13        C     27\n",
      "1  2025-01-08        C     89\n",
      "2  2025-01-10        B     51\n",
      "3  2025-01-10        B     20\n",
      "4  2025-01-01        B     41\n",
      "5  2025-01-06        B     11\n",
      "6  2025-01-06        B     12\n",
      "7  2025-01-08        C     48\n",
      "8  2025-01-04        C     99\n",
      "9  2025-01-08        B     95\n",
      "10 2025-01-10        C     32\n",
      "11 2025-01-05        B     55\n",
      "12 2025-01-03        B     62\n",
      "13 2025-01-06        C     83\n",
      "14 2025-01-09        B     93\n",
      "15 2025-01-08        A     87\n",
      "16 2025-01-11        B     25\n",
      "17 2025-01-10        C     30\n",
      "18 2025-01-01        C      6\n",
      "19 2025-01-05        C     72\n",
      "Pivot Table:\n",
      "Category       A     B      C\n",
      "Date                         \n",
      "2025-01-01   NaN  41.0    6.0\n",
      "2025-01-03   NaN  62.0    NaN\n",
      "2025-01-04   NaN   NaN   99.0\n",
      "2025-01-05   NaN  55.0   72.0\n",
      "2025-01-06   NaN  23.0   83.0\n",
      "2025-01-08  87.0  95.0  137.0\n",
      "2025-01-09   NaN  93.0    NaN\n",
      "2025-01-10   NaN  71.0   62.0\n",
      "2025-01-11   NaN  25.0    NaN\n",
      "2025-01-13   NaN   NaN   27.0\n"
     ]
    }
   ],
   "source": [
    "date_rng=pd.date_range(start='2025-01-01',end='2025-01-15',freq='D')\n",
    "df=pd.DataFrame({'Date':np.random.choice(date_rng,size=20),'Category':np.random.choice(['A','B','C'],size=20),'Value':np.random.randint(1,100,size=20)})\n",
    "print(df)\n",
    "\n",
    "pivot_table=df.pivot_table(values='Value',index='Date',columns='Category',aggfunc='sum')\n",
    "print(\"Pivot Table:\")\n",
    "print(pivot_table)\n"
   ]
  },
  {
   "cell_type": "markdown",
   "id": "59179b8b",
   "metadata": {},
   "source": [
    "2. Create a Pandas DataFrame with columns 'Year', 'Quarter', and 'Revenue'. Create a pivot table to compute the mean 'Revenue' for each 'Quarter' by 'Year'.\n"
   ]
  },
  {
   "cell_type": "code",
   "execution_count": 86,
   "id": "e7beca1c",
   "metadata": {},
   "outputs": [
    {
     "name": "stdout",
     "output_type": "stream",
     "text": [
      "Original DataFrame:\n",
      "    Year Quarter  Revenue\n",
      "0   2021      Q2      561\n",
      "1   2022      Q3      247\n",
      "2   2021      Q1      688\n",
      "3   2020      Q2      323\n",
      "4   2022      Q1      507\n",
      "5   2021      Q2      946\n",
      "6   2022      Q1       15\n",
      "7   2020      Q3      274\n",
      "8   2020      Q3       53\n",
      "9   2021      Q3      856\n",
      "10  2022      Q4      876\n",
      "11  2022      Q2      111\n",
      "Pivot Table\n",
      "Quarter     Q1     Q2     Q3     Q4\n",
      "Year                               \n",
      "2020       NaN  323.0  163.5    NaN\n",
      "2021     688.0  753.5  856.0    NaN\n",
      "2022     261.0  111.0  247.0  876.0\n"
     ]
    }
   ],
   "source": [
    "# Create a Pandas DataFrame with columns 'Year', 'Quarter', and 'Revenue'\n",
    "df = pd.DataFrame({'Year': np.random.choice([2020, 2021, 2022], size=12), 'Quarter': np.random.choice(['Q1', 'Q2', 'Q3', 'Q4'], size=12), 'Revenue': np.random.randint(1, 1000, size=12)})\n",
    "print(\"Original DataFrame:\")\n",
    "print(df)\n",
    "\n",
    "pivot_table=df.pivot_table(values='Revenue',index='Year',columns='Quarter',aggfunc='mean')\n",
    "print(\"Pivot Table\")\n",
    "print(pivot_table)\n"
   ]
  },
  {
   "cell_type": "markdown",
   "id": "75207698",
   "metadata": {},
   "source": [
    "\n",
    "### Assignment 9: Applying Functions\n",
    "\n",
    "1. Create a Pandas DataFrame with 3 columns and 5 rows filled with random integers. Apply a function that doubles the values of the DataFrame.\n"
   ]
  },
  {
   "cell_type": "code",
   "execution_count": 90,
   "id": "47bee36f",
   "metadata": {},
   "outputs": [
    {
     "name": "stdout",
     "output_type": "stream",
     "text": [
      "    A   B   C\n",
      "0  81  91  80\n",
      "1  41  89  30\n",
      "2  62  53  42\n",
      "3  92  79  11\n",
      "4  20  11  64\n",
      "     A    B    C\n",
      "0  162  182  160\n",
      "1   82  178   60\n",
      "2  124  106   84\n",
      "3  184  158   22\n",
      "4   40   22  128\n",
      "Doubled DataFrame:\n",
      "     A    B    C\n",
      "0  324  364  320\n",
      "1  164  356  120\n",
      "2  248  212  168\n",
      "3  368  316   44\n",
      "4   80   44  256\n"
     ]
    },
    {
     "name": "stderr",
     "output_type": "stream",
     "text": [
      "C:\\Users\\ANURAG PATKAR\\AppData\\Local\\Temp\\ipykernel_1980\\1054379058.py:6: FutureWarning: DataFrame.applymap has been deprecated. Use DataFrame.map instead.\n",
      "  df_doubled = df.applymap(lambda x: x * 2)\n"
     ]
    }
   ],
   "source": [
    "df=pd.DataFrame(np.random.randint(1,100,size=(5,3)),columns=(['A','B','C']))\n",
    "print(df)\n",
    "df=df*2\n",
    "print(df)\n",
    "\n",
    "df_doubled = df.applymap(lambda x: x * 2)\n",
    "print(\"Doubled DataFrame:\")\n",
    "print(df_doubled)"
   ]
  },
  {
   "cell_type": "markdown",
   "id": "474d5cd7",
   "metadata": {},
   "source": [
    "2. Create a Pandas DataFrame with 3 columns and 6 rows filled with random integers. Apply a lambda function to create a new column that is the sum of the existing columns.\n"
   ]
  },
  {
   "cell_type": "code",
   "execution_count": 95,
   "id": "8e742eff",
   "metadata": {},
   "outputs": [
    {
     "name": "stdout",
     "output_type": "stream",
     "text": [
      "    A   B   C\n",
      "0  72  91  63\n",
      "1  64  63  98\n",
      "2  68  25  82\n",
      "3  98  43  61\n",
      "4  81  71  78\n",
      "5  77  73  29\n",
      "    A   B   C  Sum\n",
      "0  72  91  63  226\n",
      "1  64  63  98  225\n",
      "2  68  25  82  175\n",
      "3  98  43  61  202\n",
      "4  81  71  78  230\n",
      "5  77  73  29  179\n"
     ]
    }
   ],
   "source": [
    "df=pd.DataFrame(np.random.randint(1,100,size=(6,3)),columns=(['A','B','C']))\n",
    "print(df)\n",
    "\n",
    "df['Sum']=df.apply(lambda row:row.sum(),axis=1)\n",
    "print(df)"
   ]
  },
  {
   "cell_type": "markdown",
   "id": "34fc5c75",
   "metadata": {},
   "source": [
    "\n",
    "### Assignment 10: Working with Text Data\n",
    "\n",
    "1. Create a Pandas Series with 5 random text strings. Convert all the strings to uppercase.\n"
   ]
  },
  {
   "cell_type": "code",
   "execution_count": 98,
   "id": "c6194f3d",
   "metadata": {},
   "outputs": [
    {
     "name": "stdout",
     "output_type": "stream",
     "text": [
      "0        Apple\n",
      "1       banana\n",
      "2       cheery\n",
      "3        Mango\n",
      "4    pineapple\n",
      "dtype: object\n",
      "0        APPLE\n",
      "1       BANANA\n",
      "2       CHEERY\n",
      "3        MANGO\n",
      "4    PINEAPPLE\n",
      "dtype: object\n"
     ]
    }
   ],
   "source": [
    "df=pd.Series(['Apple','banana','cheery','Mango','pineapple'])\n",
    "print(df)\n",
    "upper_case=df.str.upper()\n",
    "print(upper_case)"
   ]
  },
  {
   "cell_type": "markdown",
   "id": "f8f61589",
   "metadata": {},
   "source": [
    "2. Create a Pandas Series with 5 random text strings. Extract the first three characters of each string.\n"
   ]
  },
  {
   "cell_type": "code",
   "execution_count": 99,
   "metadata": {},
   "outputs": [
    {
     "name": "stdout",
     "output_type": "stream",
     "text": [
      "0        Apple\n",
      "1       banana\n",
      "2       cheery\n",
      "3        Mango\n",
      "4    pineapple\n",
      "dtype: object\n",
      "0    App\n",
      "1    ban\n",
      "2    che\n",
      "3    Man\n",
      "4    pin\n",
      "dtype: object\n"
     ]
    }
   ],
   "source": [
    "df=pd.Series(['Apple','banana','cheery','Mango','pineapple'])\n",
    "print(df)\n",
    "\n",
    "first_three_char=df.str[:3]\n",
    "print(first_three_char)"
   ]
  },
  {
   "cell_type": "code",
   "execution_count": null,
   "id": "c2f07384",
   "metadata": {},
   "outputs": [],
   "source": []
  }
 ],
 "metadata": {
  "kernelspec": {
   "display_name": "Python 3",
   "language": "python",
   "name": "python3"
  },
  "language_info": {
   "codemirror_mode": {
    "name": "ipython",
    "version": 3
   },
   "file_extension": ".py",
   "mimetype": "text/x-python",
   "name": "python",
   "nbconvert_exporter": "python",
   "pygments_lexer": "ipython3",
   "version": "3.10.0"
  }
 },
 "nbformat": 4,
 "nbformat_minor": 5
}
