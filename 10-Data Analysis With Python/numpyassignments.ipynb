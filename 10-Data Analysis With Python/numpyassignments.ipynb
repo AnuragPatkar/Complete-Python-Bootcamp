{
 "cells": [
  {
   "cell_type": "markdown",
   "metadata": {},
   "source": [
    "# Module: NumPy Assignments\n",
    "## Lesson: NumPy\n",
    "### Assignment 1: Array Creation and Manipulation\n",
    "\n",
    "1. Create a NumPy array of shape (5, 5) filled with random integers between 1 and 20. Replace all the elements in the third column with 1.\n"
   ]
  },
  {
   "cell_type": "code",
   "execution_count": 10,
   "id": "1c1a826a",
   "metadata": {},
   "outputs": [
    {
     "name": "stdout",
     "output_type": "stream",
     "text": [
      "Original Array:\n",
      " [[ 1 12 19  3  6]\n",
      " [ 6 19 14  7  5]\n",
      " [11  2 15 16  4]\n",
      " [ 1 16 10  4 19]\n",
      " [17 16 17  9  7]]\n",
      "New Array:\n",
      " [[ 1 12  1  3  6]\n",
      " [ 6 19  1  7  5]\n",
      " [11  2  1 16  4]\n",
      " [ 1 16  1  4 19]\n",
      " [17 16  1  9  7]]\n"
     ]
    }
   ],
   "source": [
    "import numpy as np\n",
    "\n",
    "arr1=np.random.randint(1 ,21 ,size=(5,5))\n",
    "print(\"Original Array:\\n\",arr1)\n",
    "\n",
    "arr1[:,2]=1\n",
    "print(\"New Array:\\n\",arr1)"
   ]
  },
  {
   "cell_type": "markdown",
   "id": "c5784ea2",
   "metadata": {},
   "source": [
    "2. Create a NumPy array of shape (4, 4) with values from 1 to 16. Replace the diagonal elements with 0.\n"
   ]
  },
  {
   "cell_type": "code",
   "execution_count": 31,
   "id": "3c5d9db7",
   "metadata": {},
   "outputs": [
    {
     "name": "stdout",
     "output_type": "stream",
     "text": [
      "Original Array:\n",
      " [[12  8  4 14]\n",
      " [14  4 16 16]\n",
      " [ 8 14 10  3]\n",
      " [ 6  6  3  1]]\n",
      "New Array:\n",
      " [[ 0  8  4 14]\n",
      " [14  0 16 16]\n",
      " [ 8 14  0  3]\n",
      " [ 6  6  3  0]]\n"
     ]
    }
   ],
   "source": [
    "arr2=np.random.randint(1 ,17 ,size=(4,4))\n",
    "print(\"Original Array:\\n\",arr2)\n",
    "\n",
    "np.fill_diagonal(arr2,0)\n",
    "print(\"New Array:\\n\",arr2)"
   ]
  },
  {
   "cell_type": "markdown",
   "id": "f47a3084",
   "metadata": {},
   "source": [
    "\n",
    "### Assignment 2: Array Indexing and Slicing\n",
    "\n",
    "1. Create a NumPy array of shape (6, 6) with values from 1 to 36. Extract the sub-array consisting of the 3rd to 5th rows and 2nd to 4th columns.\n",
    "\n"
   ]
  },
  {
   "cell_type": "code",
   "execution_count": 30,
   "id": "d4f04a03",
   "metadata": {},
   "outputs": [
    {
     "name": "stdout",
     "output_type": "stream",
     "text": [
      "[[32 29 24 19 26 36]\n",
      " [ 6 25 35 27 20 23]\n",
      " [32 14 22 17 31 33]\n",
      " [ 9  8  5 12 36 30]\n",
      " [31 15 27 20 29  7]\n",
      " [10 27 27  6  1 24]]\n",
      "[[14 22 17]\n",
      " [ 8  5 12]\n",
      " [15 27 20]]\n"
     ]
    }
   ],
   "source": [
    "array=np.random.randint(1,37,size=(6,6))\n",
    "print(array)\n",
    "print(array[2:5,1:4])"
   ]
  },
  {
   "cell_type": "markdown",
   "id": "5b3f887b",
   "metadata": {},
   "source": [
    "2. Create a NumPy array of shape (5, 5) with random integers. Extract the elements on the border.\n"
   ]
  },
  {
   "cell_type": "code",
   "execution_count": 20,
   "id": "82a335ab",
   "metadata": {},
   "outputs": [
    {
     "name": "stdout",
     "output_type": "stream",
     "text": [
      "[[17 33 15  9 34]\n",
      " [28 21 11  2  3]\n",
      " [ 4 17  9  4 15]\n",
      " [19 16 14 26  4]\n",
      " [23 29 28 26 27]]\n",
      "[17 33 15  9 34 23 29 28 26 27 28  4 19  3 15  4]\n"
     ]
    }
   ],
   "source": [
    "array=np.random.randint(1,36,size=(5,5))\n",
    "print(array)\n",
    "\n",
    "border_element=np.concatenate((array[0,:],array[-1,:],array[1:-1,0],array[1:-1,-1]))\n",
    "print(border_element)"
   ]
  },
  {
   "cell_type": "markdown",
   "id": "500335ce",
   "metadata": {},
   "source": [
    "\n",
    "### Assignment 3: Array Operations\n",
    "\n",
    "1. Create two NumPy arrays of shape (3, 4) filled with random integers. Perform element-wise addition, subtraction, multiplication, and division.\n"
   ]
  },
  {
   "cell_type": "code",
   "execution_count": 22,
   "id": "da787aef",
   "metadata": {},
   "outputs": [
    {
     "name": "stdout",
     "output_type": "stream",
     "text": [
      "Addition:\n",
      " [[164 100  85 180]\n",
      " [100 103  48  69]\n",
      " [100  95  77  15]]\n",
      "Subtraction:\n",
      " [[  4  72  35  -6]\n",
      " [ 60 -53  20 -67]\n",
      " [ 60  13 -59   7]]\n",
      "Multiplication:\n",
      " [[6720 1204 1500 8091]\n",
      " [1600 1950  476   68]\n",
      " [1600 2214  612   44]]\n",
      "Division:\n",
      " [[1.05       6.14285714 2.4        0.93548387]\n",
      " [4.         0.32051282 2.42857143 0.01470588]\n",
      " [4.         1.31707317 0.13235294 2.75      ]]\n"
     ]
    }
   ],
   "source": [
    "a1=np.random.randint(1,100,size=(3,4))\n",
    "a2=np.random.randint(1,100,size=(3,4))\n",
    "\n",
    "print(\"Addition:\\n\",a1+a2)\n",
    "print(\"Subtraction:\\n\",a1-a2)\n",
    "print(\"Multiplication:\\n\",a1*a2)\n",
    "print(\"Division:\\n\",a1/a2)"
   ]
  },
  {
   "cell_type": "markdown",
   "id": "0ddcaf91",
   "metadata": {},
   "source": [
    "2. Create a NumPy array of shape (4, 4) with values from 1 to 16. Compute the row-wise and column-wise sum.\n"
   ]
  },
  {
   "cell_type": "code",
   "execution_count": null,
   "id": "5058293b",
   "metadata": {},
   "outputs": [
    {
     "name": "stdout",
     "output_type": "stream",
     "text": [
      "Array:\n",
      " [[11  2  1  6]\n",
      " [ 6  3  2 15]\n",
      " [ 4  3 12 15]\n",
      " [ 4  3 12  1]]\n",
      "Row-wise sum:\n",
      "[20 26 34 20]\n",
      "Column-wise sum:\n",
      "[25 11 27 37]\n"
     ]
    }
   ],
   "source": [
    "arr1=np.random.randint(1,17,size=(4,4))\n",
    "print(\"Array:\\n\",arr1)\n",
    "\n",
    "row_sum = np.sum(arr1, axis=1)\n",
    "column_sum = np.sum(arr1, axis=0)\n",
    "\n",
    "print(\"Row-wise sum:\")\n",
    "print(row_sum)\n",
    "print(\"Column-wise sum:\")\n",
    "print(column_sum)\n"
   ]
  },
  {
   "cell_type": "markdown",
   "id": "2e01a4ce",
   "metadata": {},
   "source": [
    "\n",
    "### Assignment 4: Statistical Operations\n",
    "\n",
    "1. Create a NumPy array of shape (5, 5) filled with random integers. Compute the mean, median, standard deviation, and variance of the array.\n",
    "\n"
   ]
  },
  {
   "cell_type": "code",
   "execution_count": 27,
   "id": "cbb006a9",
   "metadata": {},
   "outputs": [
    {
     "name": "stdout",
     "output_type": "stream",
     "text": [
      "Array:\n",
      " [[ 9  3 11 12  6]\n",
      " [15  8  8 15 14]\n",
      " [12  5  5  3 10]\n",
      " [ 2 12  4 10 12]\n",
      " [11  8  1 12 10]]\n",
      "Mean: 8.72\n",
      "Median: 10.0\n",
      "Standard deviation: 4.02512111619017\n",
      "Variance: 16.2016\n"
     ]
    }
   ],
   "source": [
    "arr1=np.random.randint(1,16,size=(5,5))\n",
    "print(\"Array:\\n\",arr1)\n",
    "\n",
    "mean=np.mean(arr1)\n",
    "median=np.median(arr1)\n",
    "std=np.std(arr1)\n",
    "var=np.var(arr1)\n",
    "\n",
    "print(\"Mean:\",mean)\n",
    "print(\"Median:\",median)\n",
    "print(\"Standard deviation:\",std)\n",
    "print(\"Variance:\",var)"
   ]
  },
  {
   "cell_type": "markdown",
   "id": "898f7713",
   "metadata": {},
   "source": [
    "2. Create a NumPy array of shape (3, 3) with values from 1 to 9. Normalize the array (i.e., scale the values to have a mean of 0 and a standard deviation of 1).\n"
   ]
  },
  {
   "cell_type": "code",
   "execution_count": null,
   "id": "e5f9d720",
   "metadata": {},
   "outputs": [
    {
     "name": "stdout",
     "output_type": "stream",
     "text": [
      "Array:\n",
      " [[5 3 2]\n",
      " [6 6 2]\n",
      " [3 2 8]]\n",
      "Normalization:\n",
      " [[ 0.42761799 -0.53452248 -1.01559272]\n",
      " [ 0.90868822  0.90868822 -1.01559272]\n",
      " [-0.53452248 -1.01559272  1.87082869]]\n"
     ]
    }
   ],
   "source": [
    "arr=np.random.randint(1,10,size=(3,3))\n",
    "print(\"Array:\\n\",arr)\n",
    "\n",
    "mean=np.mean(arr)\n",
    "std=np.std(arr)\n",
    "\n",
    "normalization= (arr-mean)/std\n",
    "print(\"Normalization:\\n\",normalization)"
   ]
  },
  {
   "cell_type": "markdown",
   "id": "5285c44e",
   "metadata": {},
   "source": [
    "\n",
    "### Assignment 5: Broadcasting\n",
    "\n",
    "1. Create a NumPy array of shape (3, 3) filled with random integers. Add a 1D array of shape (3,) to each row of the 2D array using broadcasting.\n",
    "\n"
   ]
  },
  {
   "cell_type": "code",
   "execution_count": 39,
   "id": "df0649e1",
   "metadata": {},
   "outputs": [
    {
     "name": "stdout",
     "output_type": "stream",
     "text": [
      "Array:\n",
      " [[5 5 5]\n",
      " [1 9 5]\n",
      " [3 3 7]]\n",
      "1D Array: [5 7 5]\n",
      "Resulting Array:\n",
      " [[10 12 10]\n",
      " [ 6 16 10]\n",
      " [ 8 10 12]]\n"
     ]
    }
   ],
   "source": [
    "array=np.random.randint(1,10,size=(3,3))\n",
    "row_arr=np.random.randint(1,10,size=(3,))\n",
    "print(\"Array:\\n\",array)\n",
    "print(\"1D Array:\",row_arr)\n",
    "\n",
    "result = array + row_arr\n",
    "print(\"Resulting Array:\\n\",result)"
   ]
  },
  {
   "cell_type": "markdown",
   "id": "0d8ab2db",
   "metadata": {},
   "source": [
    "2. Create a NumPy array of shape (4, 4) filled with random integers. Subtract a 1D array of shape (4,) from each column of the 2D array using broadcasting.\n"
   ]
  },
  {
   "cell_type": "code",
   "execution_count": 41,
   "id": "551e9c08",
   "metadata": {},
   "outputs": [
    {
     "name": "stdout",
     "output_type": "stream",
     "text": [
      "Array:\n",
      " [[9 3 3 1]\n",
      " [9 8 1 9]\n",
      " [6 9 5 4]\n",
      " [3 4 8 3]]\n",
      "1D Array:\n",
      " [3 8 3 6]\n",
      "Resulting Array:\n",
      " [[ 6  0  0 -2]\n",
      " [ 1  0 -7  1]\n",
      " [ 3  6  2  1]\n",
      " [-3 -2  2 -3]]\n"
     ]
    }
   ],
   "source": [
    "arr=np.random.randint(1,10,size=(4,4))\n",
    "sub_arr=np.random.randint(1,10,size=(4,))\n",
    "print(\"Array:\\n\",arr)\n",
    "print(\"1D Array:\\n\",sub_arr)\n",
    "\n",
    "result=arr-sub_arr.reshape(4,1)\n",
    "print(\"Resulting Array:\\n\",result)"
   ]
  },
  {
   "cell_type": "markdown",
   "id": "6befc8e1",
   "metadata": {},
   "source": [
    "\n",
    "### Assignment 6: Linear Algebra\n",
    "\n",
    "1. Create a NumPy array of shape (3, 3) representing a matrix. Compute its determinant, inverse, and eigenvalues.\n",
    "\n"
   ]
  },
  {
   "cell_type": "code",
   "execution_count": 3,
   "id": "fec9f3d9",
   "metadata": {},
   "outputs": [
    {
     "name": "stdout",
     "output_type": "stream",
     "text": [
      "Matrix:\n",
      " [[8 7 6]\n",
      " [9 4 3]\n",
      " [8 5 5]]\n",
      "Determinant: -29.000000000000004\n",
      "Inverse: [[-0.17241379  0.17241379  0.10344828]\n",
      " [ 0.72413793  0.27586207 -1.03448276]\n",
      " [-0.44827586 -0.55172414  1.06896552]]\n",
      "Eigenvalues: [18.73239364 -2.38225002  0.64985638]\n"
     ]
    }
   ],
   "source": [
    "import numpy as np\n",
    "arr=np.random.randint(1,10,size=(3,3))\n",
    "print(\"Matrix:\\n\",arr)\n",
    "\n",
    "determinant=np.linalg.det(arr)\n",
    "print(\"Determinant:\",determinant)\n",
    "\n",
    "inverse=np.linalg.inv(arr)\n",
    "print(\"Inverse:\",inverse)\n",
    "\n",
    "eigenvalues=np.linalg.eigvals(arr)\n",
    "print(\"Eigenvalues:\",eigenvalues)\n"
   ]
  },
  {
   "cell_type": "markdown",
   "id": "b91f0d68",
   "metadata": {},
   "source": [
    "2. Create two NumPy arrays of shape (2, 3) and (3, 2). Perform matrix multiplication on these arrays.\n"
   ]
  },
  {
   "cell_type": "code",
   "execution_count": 5,
   "id": "9db43ae1",
   "metadata": {},
   "outputs": [
    {
     "name": "stdout",
     "output_type": "stream",
     "text": [
      "Matrix 1:\n",
      " [[5 4 2]\n",
      " [8 2 8]]\n",
      "Matrix 2:\n",
      " [[2 5]\n",
      " [9 2]\n",
      " [9 8]]\n",
      "Result Matrix:\n",
      " [[ 64  49]\n",
      " [106 108]]\n"
     ]
    }
   ],
   "source": [
    "m1=np.random.randint(1,10,size=(2,3))\n",
    "m2=np.random.randint(1,10,size=(3,2))\n",
    "print(\"Matrix 1:\\n\",m1)\n",
    "print(\"Matrix 2:\\n\",m2)\n",
    "m3=np.dot(m1,m2)\n",
    "print(\"Result Matrix:\\n\",m3)"
   ]
  },
  {
   "cell_type": "markdown",
   "id": "1c116d08",
   "metadata": {},
   "source": [
    "\n",
    "### Assignment 7: Advanced Array Manipulation\n",
    "\n",
    "1. Create a NumPy array of shape (3, 3) with values from 1 to 9. Reshape the array to shape (1, 9) and then to shape (9, 1).\n",
    "\n"
   ]
  },
  {
   "cell_type": "code",
   "execution_count": 8,
   "id": "973159b0",
   "metadata": {},
   "outputs": [
    {
     "name": "stdout",
     "output_type": "stream",
     "text": [
      "Original: [[9 6 8]\n",
      " [3 2 5]\n",
      " [6 3 9]]\n",
      "Reshape(1,9): [[9 6 8 3 2 5 6 3 9]]\n",
      "Reshape(1,9): [[9]\n",
      " [6]\n",
      " [8]\n",
      " [3]\n",
      " [2]\n",
      " [5]\n",
      " [6]\n",
      " [3]\n",
      " [9]]\n"
     ]
    }
   ],
   "source": [
    "arr=np.random.randint(1,10,size=(3,3))\n",
    "print(\"Original:\",arr)\n",
    "reshape_arr=arr.reshape(1,9)\n",
    "print(\"Reshape(1,9):\",reshape_arr)\n",
    "\n",
    "reshape_arr_2=arr.reshape(9,1)\n",
    "print(\"Reshape(1,9):\",reshape_arr_2)\n"
   ]
  },
  {
   "cell_type": "markdown",
   "id": "4b25b3a6",
   "metadata": {},
   "source": [
    "2. Create a NumPy array of shape (5, 5) filled with random integers. Flatten the array and then reshape it back to (5, 5).\n"
   ]
  },
  {
   "cell_type": "code",
   "execution_count": 10,
   "id": "19153ae9",
   "metadata": {},
   "outputs": [
    {
     "name": "stdout",
     "output_type": "stream",
     "text": [
      "Original:\n",
      " [[ 5  6  7  9  7]\n",
      " [ 7  6  6 10  3]\n",
      " [ 7  9  1  7  2]\n",
      " [ 7  9 10  5  5]\n",
      " [ 1  3  1  4  3]]\n",
      "Flatten: [ 5  6  7  9  7  7  6  6 10  3  7  9  1  7  2  7  9 10  5  5  1  3  1  4\n",
      "  3]\n",
      "Reshape:\n",
      " [[ 5  6  7  9  7]\n",
      " [ 7  6  6 10  3]\n",
      " [ 7  9  1  7  2]\n",
      " [ 7  9 10  5  5]\n",
      " [ 1  3  1  4  3]]\n"
     ]
    }
   ],
   "source": [
    "arr=np.random.randint(1,11,size=(5,5))\n",
    "print(\"Original:\\n\",arr)\n",
    "flatten=arr.flatten()\n",
    "print(\"Flatten:\",flatten)\n",
    "arr2=flatten.reshape(5,5)\n",
    "print(\"Reshape:\\n\",arr2)"
   ]
  },
  {
   "cell_type": "markdown",
   "id": "5a858483",
   "metadata": {},
   "source": [
    "\n",
    "### Assignment 8: Fancy Indexing and Boolean Indexing\n",
    "\n",
    "1. Create a NumPy array of shape (5, 5) filled with random integers. Use fancy indexing to extract the elements at the corners of the array.\n",
    "\n"
   ]
  },
  {
   "cell_type": "code",
   "execution_count": 12,
   "id": "cc7b6804",
   "metadata": {},
   "outputs": [
    {
     "name": "stdout",
     "output_type": "stream",
     "text": [
      "Original array:\n",
      "[[ 2  8  5  9 10]\n",
      " [ 4  8  2  1  3]\n",
      " [ 8  8 10  7  6]\n",
      " [ 7  5  6  4  8]\n",
      " [ 4  3  6  4  6]]\n",
      "Corner elements:\n",
      "[ 2 10  4  6]\n"
     ]
    }
   ],
   "source": [
    "arr=np.random.randint(1,11,size=(5,5))\n",
    "print(\"Original array:\")\n",
    "print(arr)\n",
    "\n",
    "corners = arr[[0, 0, -1, -1], [0, -1, 0, -1]]\n",
    "print(\"Corner elements:\")\n",
    "print(corners)"
   ]
  },
  {
   "cell_type": "markdown",
   "id": "c56a6800",
   "metadata": {},
   "source": [
    "2. Create a NumPy array of shape (4, 4) filled with random integers. Use boolean indexing to set all elements greater than 10 to 10.\n"
   ]
  },
  {
   "cell_type": "code",
   "execution_count": 15,
   "id": "53a9ecbf",
   "metadata": {},
   "outputs": [
    {
     "name": "stdout",
     "output_type": "stream",
     "text": [
      "Original array:\n",
      "[[ 2  4  4 18  9]\n",
      " [ 6 11 16  3 18]\n",
      " [ 4 13 19  7  9]\n",
      " [ 7  1 10  6  1]\n",
      " [16 16 18 12 12]]\n",
      "[[ 2  4  4 10  9]\n",
      " [ 6 10 10  3 10]\n",
      " [ 4 10 10  7  9]\n",
      " [ 7  1 10  6  1]\n",
      " [10 10 10 10 10]]\n"
     ]
    }
   ],
   "source": [
    "arr=np.random.randint(1,20,size=(5,5))\n",
    "print(\"Original array:\")\n",
    "print(arr)\n",
    "arr[arr>10]=10\n",
    "print(arr)"
   ]
  },
  {
   "cell_type": "markdown",
   "id": "e9b4c67b",
   "metadata": {},
   "source": [
    "\n",
    "### Assignment 9: Structured Arrays\n",
    "\n",
    "1. Create a structured array with fields 'name' (string), 'age' (integer), and 'weight' (float). Add some data and sort the array by age.\n"
   ]
  },
  {
   "cell_type": "code",
   "execution_count": 21,
   "id": "0eae046a",
   "metadata": {},
   "outputs": [
    {
     "name": "stdout",
     "output_type": "stream",
     "text": [
      "[('Anuj', 30, 80.) ('Akash', 20, 60.) ('Jaya', 26, 46.)]\n",
      "[('Akash', 20, 60.) ('Jaya', 26, 46.) ('Anuj', 30, 80.)]\n"
     ]
    }
   ],
   "source": [
    "datatype=[('name','U10'), ('age','i4'), ('weight','f4')]\n",
    "arr=np.array([('Anuj',30,80),('Akash',20,60),('Jaya',26,46)],dtype=datatype)\n",
    "print(arr)\n",
    "\n",
    "sort=np.sort(arr,order='age')\n",
    "print(sort)"
   ]
  },
  {
   "cell_type": "markdown",
   "id": "4927d362",
   "metadata": {},
   "source": [
    "2. Create a structured array with fields 'x' and 'y' (both integers). Add some data and compute the Euclidean distance between each pair of points.\n"
   ]
  },
  {
   "cell_type": "code",
   "execution_count": 26,
   "id": "a0748379",
   "metadata": {},
   "outputs": [
    {
     "name": "stdout",
     "output_type": "stream",
     "text": [
      "[(1,  1) (2,  4) (3,  6) (4,  8) (5, 10)]\n",
      "distance: [[0.         3.16227766 5.38516481 7.61577311 9.8488578 ]\n",
      " [3.16227766 0.         2.23606798 4.47213595 6.70820393]\n",
      " [5.38516481 2.23606798 0.         2.23606798 4.47213595]\n",
      " [7.61577311 4.47213595 2.23606798 0.         2.23606798]\n",
      " [9.8488578  6.70820393 4.47213595 2.23606798 0.        ]]\n"
     ]
    }
   ],
   "source": [
    "datatype=[('x','i4'),('y','i4')]\n",
    "arr=np.array([(1,1),(2,4),(3,6),(4,8),(5,10)],dtype=datatype)\n",
    "print(arr)\n",
    "\n",
    "distance=np.sqrt((arr['x'][:,np.newaxis]-arr['x'])**2+(arr['y'][:,np.newaxis]-arr['y'])**2)\n",
    "print(\"distance:\",distance)"
   ]
  },
  {
   "cell_type": "markdown",
   "id": "b1484fbb",
   "metadata": {},
   "source": [
    "\n",
    "### Assignment 10: Masked Arrays\n",
    "\n",
    "1. Create a masked array of shape (4, 4) with random integers and mask the elements greater than 10. Compute the sum of the unmasked elements.\n"
   ]
  },
  {
   "cell_type": "code",
   "execution_count": 29,
   "id": "710d00c6",
   "metadata": {},
   "outputs": [
    {
     "name": "stdout",
     "output_type": "stream",
     "text": [
      "Original:\n",
      " [[ 8 17 16 15]\n",
      " [19  5  6 15]\n",
      " [ 2  2  3 15]\n",
      " [ 9  5 13 13]]\n",
      "Masked Array:\n",
      " [[8 -- -- --]\n",
      " [-- 5 6 --]\n",
      " [2 2 3 --]\n",
      " [9 5 -- --]]\n",
      "Sum: 40\n"
     ]
    }
   ],
   "source": [
    "import numpy.ma as ma\n",
    "arr=np.random.randint(1,21,size=(4,4))\n",
    "print(\"Original:\\n\",arr)\n",
    "masked_array=ma.masked_greater(arr,10)\n",
    "print(\"Masked Array:\\n\",masked_array)\n",
    "\n",
    "sum_unmasked_array=masked_array.sum()\n",
    "print(\"Sum:\",sum_unmasked_array)"
   ]
  },
  {
   "cell_type": "markdown",
   "id": "4b4171a6",
   "metadata": {},
   "source": [
    "2. Create a masked array of shape (3, 3) with random integers and mask the diagonal elements. Replace the masked elements with the mean of the unmasked elements."
   ]
  },
  {
   "cell_type": "code",
   "execution_count": 31,
   "metadata": {},
   "outputs": [
    {
     "name": "stdout",
     "output_type": "stream",
     "text": [
      "Original array:\n",
      "[[17  5 16]\n",
      " [19 10 10]\n",
      " [ 8 17 10]]\n",
      "Masked array:\n",
      "[[-- 5 16]\n",
      " [19 -- 10]\n",
      " [8 17 --]]\n",
      "Modified masked array:\n",
      "[[12  5 16]\n",
      " [19 12 10]\n",
      " [ 8 17 12]]\n"
     ]
    }
   ],
   "source": [
    "# Create a masked array of shape (3, 3) with random integers\n",
    "array = np.random.randint(1, 21, size=(3, 3))\n",
    "masked_array = ma.masked_array(array, mask=np.eye(3, dtype=bool))\n",
    "print(\"Original array:\")\n",
    "print(array)\n",
    "print(\"Masked array:\")\n",
    "print(masked_array)\n",
    "\n",
    "# Replace the masked elements with the mean of the unmasked elements\n",
    "mean_unmasked = masked_array.mean()\n",
    "masked_array = masked_array.filled(mean_unmasked)\n",
    "print(\"Modified masked array:\")\n",
    "print(masked_array)"
   ]
  },
  {
   "cell_type": "code",
   "execution_count": null,
   "id": "7618a404",
   "metadata": {},
   "outputs": [
    {
     "name": "stdout",
     "output_type": "stream",
     "text": [
      "4\n"
     ]
    }
   ],
   "source": [
    "\n",
    "\n",
    "\n"
   ]
  },
  {
   "cell_type": "code",
   "execution_count": null,
   "id": "163d7852",
   "metadata": {},
   "outputs": [],
   "source": []
  }
 ],
 "metadata": {
  "kernelspec": {
   "display_name": "Python 3",
   "language": "python",
   "name": "python3"
  },
  "language_info": {
   "codemirror_mode": {
    "name": "ipython",
    "version": 3
   },
   "file_extension": ".py",
   "mimetype": "text/x-python",
   "name": "python",
   "nbconvert_exporter": "python",
   "pygments_lexer": "ipython3",
   "version": "3.10.0"
  }
 },
 "nbformat": 4,
 "nbformat_minor": 5
}
