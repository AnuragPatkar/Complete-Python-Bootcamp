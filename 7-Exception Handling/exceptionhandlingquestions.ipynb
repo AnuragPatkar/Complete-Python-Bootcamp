{
 "cells": [
  {
   "cell_type": "markdown",
   "metadata": {},
   "source": [
    "# Module: Exception Handling Assignments\n",
    "## Lesson: Exception Handling with try, except, and finally\n",
    "### Assignment 1: Handling Division by Zero\n",
    "\n",
    "Write a function that takes two integers as input and returns their division. Use try, except, and finally blocks to handle division by zero and print an appropriate message.\n"
   ]
  },
  {
   "cell_type": "code",
   "execution_count": 3,
   "id": "9208f701",
   "metadata": {},
   "outputs": [
    {
     "name": "stdout",
     "output_type": "stream",
     "text": [
      "Error: Division by zero is not allowed.\n",
      "Execution of division function is complete.\n",
      "Result: None\n"
     ]
    }
   ],
   "source": [
    "def division(a, b):\n",
    "    try:\n",
    "        return a / b\n",
    "    except ZeroDivisionError:\n",
    "        print(\"Error: Division by zero is not allowed.\")\n",
    "    finally:\n",
    "        print(\"Execution of division function is complete.\")\n",
    "\n",
    "# Example usage\n",
    "result = division(5, 0)\n",
    "print(\"Result:\", result)"
   ]
  },
  {
   "cell_type": "markdown",
   "id": "2c9df1e6",
   "metadata": {},
   "source": [
    "\n",
    "### Assignment 2: File Reading with Exception Handling\n",
    "\n",
    "Write a function that reads the contents of a file named `data.txt`. Use try, except, and finally blocks to handle file not found errors and ensure the file is properly closed.\n"
   ]
  },
  {
   "cell_type": "code",
   "execution_count": 8,
   "id": "bc800544",
   "metadata": {},
   "outputs": [
    {
     "name": "stdout",
     "output_type": "stream",
     "text": [
      "[Errno 2] No such file or directory: 'data.txt'\n"
     ]
    }
   ],
   "source": [
    "def read_file(filename):\n",
    "    try:\n",
    "        with open(filename,'r') as file:\n",
    "            data=file.read()\n",
    "            print(data)\n",
    "    except FileNotFoundError as e:\n",
    "        print(e)\n",
    "    finally:\n",
    "        try:\n",
    "            file.close()\n",
    "        except NameError:\n",
    "            pass\n",
    "read_file(\"data.txt\")"
   ]
  },
  {
   "cell_type": "markdown",
   "id": "3b26bcca",
   "metadata": {},
   "source": [
    "\n",
    "### Assignment 3: Handling Multiple Exceptions\n",
    "\n",
    "Write a function that takes a list of integers and returns their sum. Use try, except, and finally blocks to handle TypeError if a non-integer value is encountered and print an appropriate message.\n"
   ]
  },
  {
   "cell_type": "code",
   "execution_count": 9,
   "id": "822a6df9",
   "metadata": {},
   "outputs": [
    {
     "name": "stdout",
     "output_type": "stream",
     "text": [
      "Error: unsupported operand type(s) for +=: 'int' and 'str'\n",
      "Execution complete.\n",
      "None\n",
      "Execution complete.\n",
      "10\n"
     ]
    }
   ],
   "source": [
    "def sum_list(lst):\n",
    "    total = 0\n",
    "    try:\n",
    "        for item in lst:\n",
    "            total += item\n",
    "    except TypeError as e:\n",
    "        print(f\"Error: {e}\")\n",
    "        total = None\n",
    "    finally:\n",
    "        print(\"Execution complete.\")\n",
    "    return total\n",
    "\n",
    "# Test\n",
    "print(sum_list([1, 2, 3, 'a']))  # None\n",
    "print(sum_list([1, 2, 3, 4]))  # 10\n"
   ]
  },
  {
   "cell_type": "markdown",
   "id": "a75ec42b",
   "metadata": {},
   "source": [
    "\n",
    "### Assignment 4: Exception Handling in User Input\n",
    "\n",
    "Write a function that prompts the user to enter an integer. Use try, except, and finally blocks to handle ValueError if the user enters a non-integer value and print an appropriate message.\n"
   ]
  },
  {
   "cell_type": "code",
   "execution_count": 11,
   "id": "d0ceb770",
   "metadata": {},
   "outputs": [
    {
     "name": "stdout",
     "output_type": "stream",
     "text": [
      "Error: invalid literal for int() with base 10: 'a'\n",
      "Execution complete.\n",
      "None\n"
     ]
    }
   ],
   "source": [
    "def get_integer():\n",
    "    try:\n",
    "        value = int(input(\"Enter an integer: \"))\n",
    "    except ValueError as e:\n",
    "        print(f\"Error: {e}\")\n",
    "        value = None\n",
    "    finally:\n",
    "        print(\"Execution complete.\")\n",
    "    return value\n",
    "\n",
    "\n",
    "print(get_integer())\n"
   ]
  },
  {
   "cell_type": "markdown",
   "id": "fca5b87b",
   "metadata": {},
   "source": [
    "\n",
    "### Assignment 5: Exception Handling in Dictionary Access\n",
    "\n",
    "Write a function that takes a dictionary and a key as input and returns the value associated with the key. Use try, except, and finally blocks to handle KeyError if the key is not found in the dictionary and print an appropriate message.\n"
   ]
  },
  {
   "cell_type": "code",
   "execution_count": 14,
   "id": "0980f262",
   "metadata": {},
   "outputs": [
    {
     "name": "stdout",
     "output_type": "stream",
     "text": [
      "Execution Complete\n",
      "1\n",
      "'x'\n",
      "Execution Complete\n",
      "None\n"
     ]
    }
   ],
   "source": [
    "def get_value(dict1,key1):\n",
    "    try:\n",
    "        value1=dict1[key1]\n",
    "    except KeyError as e:\n",
    "        print(e)\n",
    "        value1=None\n",
    "    finally:\n",
    "        print(\"Execution Complete\")\n",
    "    return value1\n",
    "d1={'a':1,'b':2,'c':3}\n",
    "print(get_value(d1,'a'))\n",
    "print(get_value(d1,'x'))"
   ]
  },
  {
   "cell_type": "markdown",
   "id": "e6d83860",
   "metadata": {},
   "source": [
    "\n",
    "### Assignment 6: Nested Exception Handling\n",
    "\n",
    "Write a function that performs nested exception handling. It should first attempt to convert a string to an integer, and then attempt to divide by that integer. Use nested try, except, and finally blocks to handle ValueError and ZeroDivisionError and print appropriate messages.\n"
   ]
  },
  {
   "cell_type": "code",
   "execution_count": 20,
   "id": "ecff6a27",
   "metadata": {},
   "outputs": [
    {
     "name": "stdout",
     "output_type": "stream",
     "text": [
      "division by zero\n",
      "Division is Completed\n",
      "finally function Completed\n",
      "None\n"
     ]
    }
   ],
   "source": [
    "def nested_expection():\n",
    "    try:\n",
    "        str1=str(input(\"Enter int or string:\"))\n",
    "        int1=int(str1)\n",
    "        try:\n",
    "            int2=int(input(\"Enter a number:\"))\n",
    "            return int1/int2\n",
    "        except ZeroDivisionError as e:\n",
    "            print(e)\n",
    "            return None\n",
    "        finally:\n",
    "            print(\"Division is Completed\")\n",
    "    except ValueError as e:\n",
    "        print(e)\n",
    "    finally:\n",
    "        print(\"finally function Completed\")\n",
    "\n",
    "print(nested_expection())"
   ]
  },
  {
   "cell_type": "markdown",
   "id": "be7241ff",
   "metadata": {},
   "source": [
    "\n",
    "### Assignment 7: Exception Handling in List Operations\n",
    "\n",
    "Write a function that takes a list and an index as input and returns the element at the given index. Use try, except, and finally blocks to handle IndexError if the index is out of range and print an appropriate message.\n"
   ]
  },
  {
   "cell_type": "code",
   "execution_count": 22,
   "id": "b205e3cb",
   "metadata": {},
   "outputs": [
    {
     "name": "stdout",
     "output_type": "stream",
     "text": [
      "list index out of range\n",
      "Function Completed\n",
      "None\n"
     ]
    }
   ],
   "source": [
    "def get_list_element(lst,index):\n",
    "    try:\n",
    "        return lst[index]\n",
    "    except IndexError as e:\n",
    "        print(e)\n",
    "    finally:\n",
    "        print(\"Function Completed\")\n",
    "lst=[1,2,3,4,5,6,7,8,9,10]\n",
    "print(get_list_element(lst,12))"
   ]
  },
  {
   "cell_type": "markdown",
   "id": "a046d141",
   "metadata": {},
   "source": [
    "\n",
    "### Assignment 8: Exception Handling in Network Operations\n",
    "\n",
    "Write a function that attempts to open a URL and read its contents. Use try, except, and finally blocks to handle network-related errors and print an appropriate message.\n"
   ]
  },
  {
   "cell_type": "code",
   "execution_count": 24,
   "id": "094f3307",
   "metadata": {},
   "outputs": [
    {
     "name": "stdout",
     "output_type": "stream",
     "text": [
      "Invalid URL 'localhost.com': No scheme supplied. Perhaps you meant https://localhost.com?\n",
      "Execution Completed\n",
      "None\n"
     ]
    }
   ],
   "source": [
    "import requests\n",
    "\n",
    "def read_url(url):\n",
    "    try:\n",
    "        response=requests.get(url)\n",
    "        response.raise_for_status()\n",
    "        return response.text\n",
    "    except requests.RequestException as e:\n",
    "        print(e)\n",
    "        return None\n",
    "    finally:\n",
    "        print(\"Execution Completed\")\n",
    "\n",
    "print(read_url(\"localhost.com\"))"
   ]
  },
  {
   "cell_type": "markdown",
   "id": "9e8e5672",
   "metadata": {},
   "source": [
    "\n",
    "### Assignment 9: Exception Handling in JSON Parsing\n",
    "\n",
    "Write a function that attempts to parse a JSON string. Use try, except, and finally blocks to handle JSONDecodeError if the string is not a valid JSON and print an appropriate message.\n"
   ]
  },
  {
   "cell_type": "code",
   "execution_count": 26,
   "id": "75af4345",
   "metadata": {},
   "outputs": [
    {
     "name": "stdout",
     "output_type": "stream",
     "text": [
      "Execution complete.\n",
      "{'name': 'John', 'age': 30}\n"
     ]
    }
   ],
   "source": [
    "import json\n",
    "\n",
    "def json_parse(json_string):\n",
    "    try:\n",
    "        data=json.loads(json_string)\n",
    "        return data\n",
    "    except json.JSONDecodeError as e:\n",
    "        print(f\"JSON error: {e}\")\n",
    "        return None\n",
    "    finally:\n",
    "        print(\"Execution complete.\")\n",
    "\n",
    "print(json_parse('{\"name\": \"John\", \"age\": 30}'))  # {'name': 'John', 'age': 30}\n"
   ]
  },
  {
   "cell_type": "markdown",
   "id": "25b1843b",
   "metadata": {},
   "source": [
    "\n",
    "### Assignment 10: Custom Exception Handling\n",
    "\n",
    "Define a custom exception named `NegativeNumberError`. Write a function that raises this exception if a negative number is encountered in a list. Use try, except, and finally blocks to handle the custom exception and print an appropriate message.\n"
   ]
  },
  {
   "cell_type": "code",
   "execution_count": 28,
   "id": "179e9262",
   "metadata": {},
   "outputs": [
    {
     "name": "stdout",
     "output_type": "stream",
     "text": [
      "Error:Negative Number Found:-4\n",
      "Execution Completed\n"
     ]
    }
   ],
   "source": [
    "class NegativeNumberError(Exception):\n",
    "    pass\n",
    "\n",
    "def check_negative(lst):\n",
    "    try:\n",
    "        for num in lst:\n",
    "            if num<0:\n",
    "                raise NegativeNumberError(f\"Negative Number Found:{num}\")\n",
    "    except NegativeNumberError as e:\n",
    "        print(f\"Error:{e}\")\n",
    "    finally:\n",
    "        print(\"Execution Completed\")\n",
    "lst=[1,2,3,-4]\n",
    "check_negative(lst)"
   ]
  },
  {
   "cell_type": "markdown",
   "id": "2bfa7e3d",
   "metadata": {},
   "source": [
    "\n",
    "### Assignment 11: Exception Handling in Function Calls\n",
    "\n",
    "Write a function that calls another function which may raise an exception. Use try, except, and finally blocks to handle the exception and print an appropriate message.\n"
   ]
  },
  {
   "cell_type": "code",
   "execution_count": 30,
   "id": "ba5c431f",
   "metadata": {},
   "outputs": [
    {
     "name": "stdout",
     "output_type": "stream",
     "text": [
      "Error: An error occurred in risky_function.\n",
      "Execution complete.\n"
     ]
    }
   ],
   "source": [
    "def risky_function():\n",
    "    raise ValueError(\"An error occurred in risky_function.\")\n",
    "\n",
    "def safe_function():\n",
    "    try:\n",
    "        risky_function()\n",
    "    except ValueError as e:\n",
    "        print(f\"Error: {e}\")\n",
    "    finally:\n",
    "        print(\"Execution complete.\")\n",
    "\n",
    "\n",
    "safe_function()  # Error: An error occurred in risky_function."
   ]
  },
  {
   "cell_type": "markdown",
   "id": "198b151b",
   "metadata": {},
   "source": [
    "\n",
    "### Assignment 12: Exception Handling in Class Methods\n",
    "\n",
    "Define a class with a method that performs a division operation. Use try, except, and finally blocks within the method to handle division by zero and print an appropriate message.\n"
   ]
  },
  {
   "cell_type": "code",
   "execution_count": 34,
   "id": "d52d67db",
   "metadata": {},
   "outputs": [
    {
     "name": "stdout",
     "output_type": "stream",
     "text": [
      "Execution Completed\n",
      "5.0\n",
      "division by zero\n",
      "Execution Completed\n",
      "None\n"
     ]
    }
   ],
   "source": [
    "class Calculator:\n",
    "    @staticmethod\n",
    "    def division(a,b):\n",
    "        try:\n",
    "            result=a/b\n",
    "        except ZeroDivisionError as e:\n",
    "            print(e)\n",
    "            result = None\n",
    "        finally:\n",
    "            print(\"Execution Completed\")\n",
    "        return result\n",
    "    \n",
    "c=Calculator()\n",
    "print(c.division(10,2))\n",
    "print(c.division(10,0))\n"
   ]
  },
  {
   "cell_type": "markdown",
   "id": "ab3c3726",
   "metadata": {},
   "source": [
    "\n",
    "### Assignment 13: Exception Handling in Data Conversion\n",
    "\n",
    "Write a function that takes a list of strings and converts them to integers. Use try, except, and finally blocks to handle ValueError if a string cannot be converted and print an appropriate message.\n"
   ]
  },
  {
   "cell_type": "code",
   "execution_count": 35,
   "id": "a668a2dd",
   "metadata": {},
   "outputs": [
    {
     "name": "stdout",
     "output_type": "stream",
     "text": [
      "Error:invalid literal for int() with base 10: 'a'\n",
      "Execution Completed\n",
      "None\n"
     ]
    }
   ],
   "source": [
    "def convert_str_to_int(lst):\n",
    "    integer=[]\n",
    "    try:\n",
    "        for i in lst:\n",
    "            integer.append(int(i))\n",
    "    except ValueError as e:\n",
    "        print(f\"Error:{e}\")\n",
    "        return None\n",
    "    finally:\n",
    "        print(\"Execution Completed\")\n",
    "    return integer\n",
    "\n",
    "lst=['1','2','a']\n",
    "print(convert_str_to_int(lst))\n",
    "\n"
   ]
  },
  {
   "cell_type": "markdown",
   "id": "4b7b98fb",
   "metadata": {},
   "source": [
    "\n",
    "### Assignment 14: Exception Handling in List Comprehensions\n",
    "\n",
    "Write a function that uses a list comprehension to convert a list of strings to integers. Use try, except, and finally blocks within the list comprehension to handle ValueError and print an appropriate message.\n"
   ]
  },
  {
   "cell_type": "code",
   "execution_count": 38,
   "id": "ff931f9e",
   "metadata": {},
   "outputs": [
    {
     "name": "stdout",
     "output_type": "stream",
     "text": [
      "Error:invalid literal for int() with base 10: 'a'\n",
      "Execution Completed\n",
      "None\n"
     ]
    }
   ],
   "source": [
    "def list_comprehension_to_convert_str_to_int(lst):\n",
    "    try:\n",
    "        integer=[int(i) for i in lst]\n",
    "    except ValueError as e:\n",
    "        print(f\"Error:{e}\")\n",
    "        return None\n",
    "    finally:\n",
    "        print(\"Execution Completed\")\n",
    "    return integer\n",
    "\n",
    "lst=['1','2','a']\n",
    "print(list_comprehension_to_convert_str_to_int(lst))"
   ]
  },
  {
   "cell_type": "markdown",
   "id": "4b3c6bdb",
   "metadata": {},
   "source": [
    "\n",
    "### Assignment 15: Exception Handling in File Writing\n",
    "\n",
    "Write a function that attempts to write a list of strings to a file. Use try, except, and finally blocks to handle IOError and ensure the file is properly closed."
   ]
  },
  {
   "cell_type": "code",
   "execution_count": 39,
   "metadata": {},
   "outputs": [],
   "source": [
    "def file_writing(filename,lst):\n",
    "    try:\n",
    "        file=open(filename,'w')\n",
    "        for string in lst:\n",
    "            file.write(string +'\\n')\n",
    "    except IOError as e:\n",
    "        print(f\"Error:{e}\")\n",
    "    finally:\n",
    "        try:\n",
    "            file.close()\n",
    "        except NameError:\n",
    "            pass\n",
    "\n",
    "file_writing(\"data.txt\",['india','russia','china'])"
   ]
  },
  {
   "cell_type": "code",
   "execution_count": null,
   "id": "59f220e3",
   "metadata": {},
   "outputs": [],
   "source": []
  }
 ],
 "metadata": {
  "kernelspec": {
   "display_name": "Python 3",
   "language": "python",
   "name": "python3"
  },
  "language_info": {
   "codemirror_mode": {
    "name": "ipython",
    "version": 3
   },
   "file_extension": ".py",
   "mimetype": "text/x-python",
   "name": "python",
   "nbconvert_exporter": "python",
   "pygments_lexer": "ipython3",
   "version": "3.10.0"
  }
 },
 "nbformat": 4,
 "nbformat_minor": 5
}
