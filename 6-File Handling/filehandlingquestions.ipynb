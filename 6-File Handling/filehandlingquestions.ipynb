{
 "cells": [
  {
   "cell_type": "markdown",
   "metadata": {},
   "source": [
    "# Module: File Handling Assignments\n",
    "## Lesson: File Handling and Operations\n",
    "### Assignment 1: Reading a File\n",
    "\n",
    "Write a function that reads the contents of a file named `sample.txt` and prints each line.\n"
   ]
  },
  {
   "cell_type": "code",
   "execution_count": 12,
   "id": "686cf17d",
   "metadata": {},
   "outputs": [
    {
     "name": "stdout",
     "output_type": "stream",
     "text": [
      "hello world\n",
      "my name is anurag patkar\n",
      "welcome to the course\n",
      "hello world\n",
      "my name is anurag patkar\n",
      "welcome to the course\n"
     ]
    }
   ],
   "source": [
    "def read_file(filename):\n",
    "    with open(filename,'r') as file:\n",
    "        content=file.read()\n",
    "        print(content)\n",
    "\n",
    "def read_file_by_line(filename):\n",
    "    with open(filename,'r') as file:\n",
    "        for line in file:\n",
    "            print(line.strip())\n",
    "\n",
    "filename=\"sample.txt\"\n",
    "read_file(filename)\n",
    "read_file_by_line(filename)"
   ]
  },
  {
   "cell_type": "markdown",
   "id": "60e5c1a9",
   "metadata": {},
   "source": [
    "\n",
    "### Assignment 2: Writing to a File\n",
    "\n",
    "Write a function that writes a list of strings to a file named `output.txt`, with each string on a new line.\n"
   ]
  },
  {
   "cell_type": "code",
   "execution_count": 13,
   "id": "0c883f63",
   "metadata": {},
   "outputs": [
    {
     "name": "stdout",
     "output_type": "stream",
     "text": [
      "First line\n",
      "Second line\n",
      "Third line\n",
      "\n"
     ]
    }
   ],
   "source": [
    "def write(lst,filename):\n",
    "    with open(\"output.txt\",'w') as file:\n",
    "        file.writelines(lst)\n",
    "\n",
    "def read_file(filename):\n",
    "    with open(filename,'r') as file:\n",
    "        content=file.read()\n",
    "        print(content)\n",
    "\n",
    "lst=['First line\\n','Second line\\n','Third line\\n']\n",
    "write(lst,\"output.txt\")\n",
    "read_file(\"output.txt\")"
   ]
  },
  {
   "cell_type": "markdown",
   "id": "e29562d3",
   "metadata": {},
   "source": [
    "\n",
    "### Assignment 3: Copying a File\n",
    "\n",
    "Write a function that copies the contents of a file named `source.txt` to a new file named `destination.txt`.\n"
   ]
  },
  {
   "cell_type": "code",
   "execution_count": 8,
   "id": "5d7e99b0",
   "metadata": {},
   "outputs": [
    {
     "name": "stdout",
     "output_type": "stream",
     "text": [
      "Hello World!\n",
      "this is a new line.Append operation taking place!Append operation taking place!\n",
      "Append operation taking place!\n",
      "First line \n",
      "Seocnd line \n",
      "Third line\n",
      "hello world\n",
      "my name is anurag patkar\n",
      "welcome to the course\n"
     ]
    }
   ],
   "source": [
    "with open(\"source.txt\",'r') as source_file:\n",
    "    source_content=source_file.read()\n",
    "\n",
    "with open(\"destination.txt\",'a') as destination_file:\n",
    "    destination_file.write(source_content)\n",
    "\n",
    "with open(\"destination.txt\",'r') as destination_file:\n",
    "    des=destination_file.read()\n",
    "    print(des)\n"
   ]
  },
  {
   "cell_type": "markdown",
   "id": "182525cf",
   "metadata": {},
   "source": [
    "\n",
    "### Assignment 4: Appending to a File\n",
    "\n",
    "Write a function that appends a given string to the end of a file named `log.txt`.\n"
   ]
  },
  {
   "cell_type": "code",
   "execution_count": 9,
   "id": "90e6b7a8",
   "metadata": {},
   "outputs": [],
   "source": [
    "with open('log.txt','a') as file:\n",
    "    file.write(\"My name is anurag patkar\")"
   ]
  },
  {
   "cell_type": "markdown",
   "id": "fa5fe4b0",
   "metadata": {},
   "source": [
    "\n",
    "### Assignment 5: Counting Words in a File\n",
    "\n",
    "Write a function that reads the contents of a file named `document.txt` and returns the number of words in the file.\n"
   ]
  },
  {
   "cell_type": "code",
   "execution_count": 11,
   "id": "c77b48d8",
   "metadata": {},
   "outputs": [
    {
     "name": "stdout",
     "output_type": "stream",
     "text": [
      "11\n"
     ]
    }
   ],
   "source": [
    "with open('document.txt','r') as file:\n",
    "    content=file.read()\n",
    "    word=content.split()\n",
    "    print(len(word))"
   ]
  },
  {
   "cell_type": "markdown",
   "id": "845da7c1",
   "metadata": {},
   "source": [
    "\n",
    "### Assignment 6: Finding and Replacing Text\n",
    "\n",
    "Write a function that finds and replaces all occurrences of a given word in a file named `data.txt` with another word.\n"
   ]
  },
  {
   "cell_type": "code",
   "execution_count": null,
   "id": "de80b678",
   "metadata": {},
   "outputs": [],
   "source": []
  },
  {
   "cell_type": "markdown",
   "id": "85ad1787",
   "metadata": {},
   "source": [
    "\n",
    "### Assignment 7: Reading a File in Reverse\n",
    "\n",
    "Write a function that reads the contents of a file named `reverse.txt` and prints each line in reverse order.\n"
   ]
  },
  {
   "cell_type": "markdown",
   "id": "673eaf45",
   "metadata": {},
   "source": [
    "\n",
    "### Assignment 8: Counting Lines, Words, and Characters\n",
    "\n",
    "Write a function that reads the contents of a file named `stats.txt` and returns the number of lines, words, and characters in the file.\n"
   ]
  },
  {
   "cell_type": "markdown",
   "id": "451c60f8",
   "metadata": {},
   "source": [
    "\n",
    "### Assignment 9: Merging Multiple Files\n",
    "\n",
    "Write a function that merges the contents of multiple files into a single file named `merged.txt`.\n"
   ]
  },
  {
   "cell_type": "markdown",
   "id": "2a3a8b18",
   "metadata": {},
   "source": [
    "\n",
    "### Assignment 10: Splitting a Large File\n",
    "\n",
    "Write a function that splits a large file named `large.txt` into smaller files of 100 lines each.\n"
   ]
  },
  {
   "cell_type": "markdown",
   "id": "373d7f1a",
   "metadata": {},
   "source": [
    "\n",
    "### Assignment 11: Creating a Log File\n",
    "\n",
    "Write a function that creates a log file named `activity.log` and writes log messages with timestamps.\n"
   ]
  },
  {
   "cell_type": "markdown",
   "id": "9fa49853",
   "metadata": {},
   "source": [
    "\n",
    "### Assignment 12: Binary File Operations\n",
    "\n",
    "Write a function that reads a binary file named `image.bin` and writes its contents to another binary file named `copy_image.bin`.\n"
   ]
  },
  {
   "cell_type": "markdown",
   "id": "272b678d",
   "metadata": {},
   "source": [
    "\n",
    "### Assignment 13: CSV File Operations\n",
    "\n",
    "Write a function that reads a CSV file named `data.csv` and prints its contents as a list of dictionaries.\n"
   ]
  },
  {
   "cell_type": "markdown",
   "id": "9a83970b",
   "metadata": {},
   "source": [
    "\n",
    "### Assignment 14: JSON File Operations\n",
    "\n",
    "Write a function that reads a JSON file named `data.json` and prints its contents as a Python dictionary.\n"
   ]
  },
  {
   "cell_type": "markdown",
   "id": "2f00c627",
   "metadata": {},
   "source": [
    "\n",
    "\n",
    "\n",
    "### Assignment 15: File Permission Handling\n",
    "\n",
    "Write a function that attempts to read a file named `protected.txt` and handles any permission errors gracefully by printing an error message."
   ]
  },
  {
   "cell_type": "code",
   "execution_count": null,
   "metadata": {},
   "outputs": [],
   "source": []
  }
 ],
 "metadata": {
  "kernelspec": {
   "display_name": "Python 3",
   "language": "python",
   "name": "python3"
  },
  "language_info": {
   "codemirror_mode": {
    "name": "ipython",
    "version": 3
   },
   "file_extension": ".py",
   "mimetype": "text/x-python",
   "name": "python",
   "nbconvert_exporter": "python",
   "pygments_lexer": "ipython3",
   "version": "3.10.0"
  }
 },
 "nbformat": 4,
 "nbformat_minor": 5
}
