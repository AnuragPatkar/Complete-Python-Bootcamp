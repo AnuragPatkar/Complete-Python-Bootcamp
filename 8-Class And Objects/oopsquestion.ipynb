{
 "cells": [
  {
   "cell_type": "markdown",
   "metadata": {},
   "source": [
    "# Module: OOP Assignments\n",
    "## Lesson: Polymorphism, Abstraction, and Encapsulation\n",
    "### Assignment 1: Polymorphism with Methods\n",
    "\n",
    "Create a base class named `Shape` with a method `area`. Create two derived classes `Circle` and `Square` that override the `area` method. Create a list of `Shape` objects and call the `area` method on each object to demonstrate polymorphism.\n"
   ]
  },
  {
   "cell_type": "code",
   "execution_count": 1,
   "id": "329cac99",
   "metadata": {},
   "outputs": [
    {
     "name": "stdout",
     "output_type": "stream",
     "text": [
      "78.53981633974483\n",
      "16\n"
     ]
    }
   ],
   "source": [
    "import math\n",
    "class Shape:\n",
    "    def area(self):\n",
    "        pass\n",
    "\n",
    "class Circle(Shape):\n",
    "    def __init__(self,radius):\n",
    "        self.radius=radius\n",
    "\n",
    "    def area(self):\n",
    "        return math.pi*self.radius*self.radius\n",
    "    \n",
    "class Square(Shape):\n",
    "    def __init__(self,side):\n",
    "        self.side=side\n",
    "\n",
    "    def area(self):\n",
    "        return self.side*self.side\n",
    "    \n",
    "Shapes=[Circle(5),Square(4)]\n",
    "\n",
    "for Shape in Shapes:\n",
    "    print(Shape.area())"
   ]
  },
  {
   "cell_type": "markdown",
   "id": "ebd13bdc",
   "metadata": {},
   "source": [
    "\n",
    "### Assignment 2: Polymorphism with Function Arguments\n",
    "\n",
    "Create a function named `describe_shape` that takes a `Shape` object as an argument and calls its `area` method. Create objects of `Circle` and `Square` classes and pass them to the `describe_shape` function.\n"
   ]
  },
  {
   "cell_type": "code",
   "execution_count": 3,
   "id": "a5844e39",
   "metadata": {},
   "outputs": [
    {
     "name": "stdout",
     "output_type": "stream",
     "text": [
      "78.53981633974483\n",
      "16\n"
     ]
    }
   ],
   "source": [
    "def describe_shape(obj):\n",
    "    print(obj.area())\n",
    "\n",
    "c1=Circle(5)\n",
    "s1=Square(4)\n",
    "\n",
    "describe_shape(c1)\n",
    "describe_shape(s1)"
   ]
  },
  {
   "cell_type": "markdown",
   "id": "d92ef49d",
   "metadata": {},
   "source": [
    "\n",
    "### Assignment 3: Abstract Base Class with Abstract Methods\n",
    "\n",
    "Create an abstract base class named `Vehicle` with an abstract method `start_engine`. Create derived classes `Car` and `Bike` that implement the `start_engine` method. Create objects of the derived classes and call the `start_engine` method.\n"
   ]
  },
  {
   "cell_type": "code",
   "execution_count": 4,
   "id": "a5f724d9",
   "metadata": {},
   "outputs": [
    {
     "name": "stdout",
     "output_type": "stream",
     "text": [
      "Car engine started\n",
      "Bike engine started\n"
     ]
    }
   ],
   "source": [
    "from abc import ABC, abstractmethod\n",
    "\n",
    "class Vehicle(ABC):\n",
    "    @abstractmethod\n",
    "    def start_engine(self):\n",
    "        pass\n",
    "\n",
    "class Car(Vehicle):\n",
    "    def start_engine(self):\n",
    "        print(\"Car engine started\")\n",
    "\n",
    "class Bike(Vehicle):\n",
    "    def start_engine(self):\n",
    "        print(\"Bike engine started\")\n",
    "\n",
    "car = Car()\n",
    "bike = Bike()\n",
    "car.start_engine()\n",
    "bike.start_engine()"
   ]
  },
  {
   "cell_type": "markdown",
   "id": "dd155739",
   "metadata": {},
   "source": [
    "\n",
    "### Assignment 4: Abstract Base Class with Concrete Methods\n",
    "\n",
    "In the `Vehicle` class, add a concrete method `fuel_type` that returns a generic fuel type. Override this method in `Car` and `Bike` classes to return specific fuel types. Create objects of the derived classes and call the `fuel_type` method.\n"
   ]
  },
  {
   "cell_type": "code",
   "execution_count": 5,
   "id": "de2a6a7b",
   "metadata": {},
   "outputs": [
    {
     "name": "stdout",
     "output_type": "stream",
     "text": [
      "Car engine started\n",
      "Bike engine started\n",
      "Electric\n",
      "Petrol\n"
     ]
    }
   ],
   "source": [
    "from abc import ABC, abstractmethod\n",
    "\n",
    "class Vehicle(ABC):\n",
    "    @abstractmethod\n",
    "    def start_engine(self):\n",
    "        pass\n",
    "\n",
    "    def fuel_type(self):\n",
    "        return \"General Fuel\"\n",
    "\n",
    "class Car(Vehicle):\n",
    "    def start_engine(self):\n",
    "        print(\"Car engine started\")\n",
    "\n",
    "    def fuel_type(self):\n",
    "        return \"Electric\"\n",
    "\n",
    "class Bike(Vehicle):\n",
    "    def start_engine(self):\n",
    "        print(\"Bike engine started\")\n",
    "    \n",
    "    def fuel_type(self):\n",
    "        return \"Petrol\"\n",
    "\n",
    "car = Car()\n",
    "bike = Bike()\n",
    "car.start_engine()\n",
    "bike.start_engine()\n",
    "print(car.fuel_type())\n",
    "print(bike.fuel_type())"
   ]
  },
  {
   "cell_type": "markdown",
   "id": "046db5ac",
   "metadata": {},
   "source": [
    "\n",
    "### Assignment 5: Encapsulation with Private Attributes\n",
    "\n",
    "Create a class named `BankAccount` with private attributes `account_number` and `balance`. Add methods to deposit and withdraw money, and to check the balance. Ensure that the balance cannot be accessed directly.\n"
   ]
  },
  {
   "cell_type": "code",
   "execution_count": 6,
   "id": "ec752c57",
   "metadata": {},
   "outputs": [
    {
     "name": "stdout",
     "output_type": "stream",
     "text": [
      "1000 Deposit Successfully\n",
      "500 Withdraw SUccessfully\n",
      "50500\n"
     ]
    }
   ],
   "source": [
    "class BankAccount:\n",
    "    def __init__(self,account_number,balance=0):\n",
    "        self.__account_number=account_number\n",
    "        self.__balance=balance\n",
    "\n",
    "    def deposit(self,amount):\n",
    "        self.__balance+=amount\n",
    "        print(f\"{amount} Deposit Successfully\")\n",
    "\n",
    "    def withdraw(self,amount):\n",
    "        if amount<self.__balance:\n",
    "            self.__balance-=amount\n",
    "            print(f\"{amount} Withdraw SUccessfully\")\n",
    "        else:\n",
    "            print(\"Insufficient Balance in Bank Account\")\n",
    "\n",
    "    def get_balance(self):\n",
    "        return self.__balance\n",
    "    \n",
    "account=BankAccount('123456',50000)\n",
    "account.deposit(1000)\n",
    "account.withdraw(500)\n",
    "print(account.get_balance())"
   ]
  },
  {
   "cell_type": "markdown",
   "id": "3cae0918",
   "metadata": {},
   "source": [
    "\n",
    "### Assignment 6: Encapsulation with Property Decorators\n",
    "\n",
    "In the `BankAccount` class, use property decorators to get and set the `balance` attribute. Ensure that the balance cannot be set to a negative value.\n"
   ]
  },
  {
   "cell_type": "code",
   "execution_count": 8,
   "id": "b77037b0",
   "metadata": {},
   "outputs": [
    {
     "name": "stdout",
     "output_type": "stream",
     "text": [
      "1000 Deposit Successfully\n",
      "500 Withdraw SUccessfully\n",
      "50500\n",
      "599\n"
     ]
    }
   ],
   "source": [
    "class BankAccount:\n",
    "    def __init__(self,account_number,balance=0):\n",
    "        self.__account_number=account_number\n",
    "        self.__balance=balance\n",
    "\n",
    "    @property\n",
    "    def account_number(self):\n",
    "        return self.__account_number\n",
    "    \n",
    "    @account_number.setter\n",
    "    def account_number(self,ac_num):\n",
    "        self.__account_number=ac_num\n",
    "    \n",
    "    @property\n",
    "    def balance(self):\n",
    "        return self.__balance\n",
    "    \n",
    "    @balance.setter\n",
    "    def balance(self,amount):\n",
    "        self.__balance=amount\n",
    "\n",
    "\n",
    "    def deposit(self,amount):\n",
    "        self.__balance+=amount\n",
    "        print(f\"{amount} Deposit Successfully\")\n",
    "\n",
    "    def withdraw(self,amount):\n",
    "        if amount<self.__balance:\n",
    "            self.__balance-=amount\n",
    "            print(f\"{amount} Withdraw SUccessfully\")\n",
    "        else:\n",
    "            print(\"Insufficient Balance in Bank Account\")\n",
    "\n",
    "    def get_balance(self):\n",
    "        return self.__balance\n",
    "    \n",
    "account=BankAccount('123456',50000)\n",
    "account.deposit(1000)\n",
    "account.withdraw(500)\n",
    "print(account.get_balance())\n",
    "\n",
    "account.account_number=\"123456789\"\n",
    "account.balance=599\n",
    "print(account.balance)"
   ]
  },
  {
   "cell_type": "markdown",
   "id": "08401d59",
   "metadata": {},
   "source": [
    "\n",
    "### Assignment 7: Combining Encapsulation and Inheritance\n",
    "\n",
    "Create a base class named `Person` with private attributes `name` and `age`. Add methods to get and set these attributes. Create a derived class named `Student` that adds an attribute `student_id`. Create an object of the `Student` class and test the encapsulation.\n"
   ]
  },
  {
   "cell_type": "code",
   "execution_count": 12,
   "id": "a6ed7d73",
   "metadata": {},
   "outputs": [
    {
     "name": "stdout",
     "output_type": "stream",
     "text": [
      "Krishna 12 A321\n",
      "12\n"
     ]
    }
   ],
   "source": [
    "class Person:\n",
    "    def __init__(self,name,age):\n",
    "        self.__name=name\n",
    "        self.__age=age\n",
    "    \n",
    "    @property\n",
    "    def name(self):\n",
    "        return self.__name\n",
    "    \n",
    "    @name.setter\n",
    "    def name(self,name):\n",
    "        self.__name=name\n",
    "\n",
    "    @property\n",
    "    def age(self):\n",
    "        return self.__age\n",
    "    \n",
    "    @age.setter\n",
    "    def age(self,age):\n",
    "        self.__age=age\n",
    "\n",
    "class Student(Person):\n",
    "    def __init__(self,name,age,student_id):\n",
    "        super().__init__(name,age)\n",
    "        self.student_id=student_id\n",
    "\n",
    "s1=Student(\"Krishna\",12,'A321')\n",
    "print(s1.name,s1.age,s1.student_id) \n",
    "print(s1.age)\n"
   ]
  },
  {
   "cell_type": "markdown",
   "id": "79fee8ed",
   "metadata": {},
   "source": [
    "\n",
    "### Assignment 8: Polymorphism with Inheritance\n",
    "\n",
    "Create a base class named `Animal` with a method `speak`. Create two derived classes `Dog` and `Cat` that override the `speak` method. Create a list of `Animal` objects and call the `speak` method on each object to demonstrate polymorphism.\n"
   ]
  },
  {
   "cell_type": "code",
   "execution_count": 13,
   "id": "4cb21eaf",
   "metadata": {},
   "outputs": [
    {
     "name": "stdout",
     "output_type": "stream",
     "text": [
      "Woof!\n",
      "Meow\n"
     ]
    }
   ],
   "source": [
    "class Animal:\n",
    "    def speak(self):\n",
    "        pass\n",
    "\n",
    "class Dog(Animal):\n",
    "    def speak(self):\n",
    "        print(\"Woof!\")\n",
    "\n",
    "class Cat(Animal):\n",
    "    def speak(self):\n",
    "        print(\"Meow\")\n",
    "\n",
    "Animal=[Dog(),Cat()]\n",
    "for a in Animal:\n",
    "    a.speak()"
   ]
  },
  {
   "cell_type": "markdown",
   "id": "055b33cb",
   "metadata": {},
   "source": [
    "\n",
    "### Assignment 9: Abstract Methods in Base Class\n",
    "\n",
    "Create an abstract base class named `Employee` with an abstract method `calculate_salary`. Create two derived classes `FullTimeEmployee` and `PartTimeEmployee` that implement the `calculate_salary` method. Create objects of the derived classes and call the `calculate_salary` method.\n"
   ]
  },
  {
   "cell_type": "code",
   "execution_count": 14,
   "id": "5b3cae7d",
   "metadata": {},
   "outputs": [
    {
     "name": "stdout",
     "output_type": "stream",
     "text": [
      "Your Salary is 50K per month\n",
      "Your salary is 20k per month\n"
     ]
    }
   ],
   "source": [
    "class Employee:\n",
    "    @abstractmethod\n",
    "    def Calculate_salary(self):\n",
    "        pass\n",
    "\n",
    "class FullTimeEmployee(Employee):\n",
    "    def Calculate_salary(self):\n",
    "        print(\"Your Salary is 50K per month\")\n",
    "\n",
    "\n",
    "class PartTimeEmployee(Employee):\n",
    "    def Calculate_salary(self):\n",
    "        print(\"Your salary is 20k per month\")\n",
    "\n",
    "f1=FullTimeEmployee()\n",
    "p1=PartTimeEmployee()\n",
    "f1.Calculate_salary()  \n",
    "p1.Calculate_salary()  "
   ]
  },
  {
   "cell_type": "markdown",
   "id": "f1f52cc6",
   "metadata": {},
   "source": [
    "\n",
    "### Assignment 10: Encapsulation in Data Classes\n",
    "\n",
    "Create a data class named `Product` with private attributes `product_id`, `name`, and `price`. Add methods to get and set these attributes. Ensure that the price cannot be set to a negative value.\n"
   ]
  },
  {
   "cell_type": "code",
   "execution_count": 16,
   "id": "dd9ee812",
   "metadata": {},
   "outputs": [
    {
     "name": "stdout",
     "output_type": "stream",
     "text": [
      "basketball ppp123 200\n"
     ]
    }
   ],
   "source": [
    "class Product:\n",
    "    def __init__(self,product_id,name,price):\n",
    "        self.__product_id=product_id\n",
    "        self.name=name\n",
    "        self.price=price\n",
    "\n",
    "    @property\n",
    "    def product_id(self):\n",
    "        return self.__product_id\n",
    "    \n",
    "    @product_id.setter\n",
    "    def product_id(self,product_id):\n",
    "        self.__product_id=product_id\n",
    "\n",
    "    @property\n",
    "    def name(self):\n",
    "        return self.__name\n",
    "    \n",
    "    @name.setter\n",
    "    def name(self,name):\n",
    "        self.__name=name\n",
    "\n",
    "    @property\n",
    "    def price(self):\n",
    "        return self.__price\n",
    "    \n",
    "    @price.setter\n",
    "    def price(self,price):\n",
    "        if price>0:\n",
    "            self.__price=price\n",
    "        else:\n",
    "            print(\"Price should be always greater than zero\")\n",
    "\n",
    "product=Product('ppp123','basketball',200)\n",
    "print(product.name,product.product_id,product.price)\n",
    "\n"
   ]
  },
  {
   "cell_type": "markdown",
   "id": "a67a488f",
   "metadata": {},
   "source": [
    "\n",
    "### Assignment 11: Polymorphism with Operator Overloading\n",
    "\n",
    "Create a class named `Vector` with attributes `x` and `y`. Overload the `+` operator to add two `Vector` objects. Create objects of the class and test the operator overloading.\n"
   ]
  },
  {
   "cell_type": "code",
   "execution_count": null,
   "id": "d2974ea4",
   "metadata": {},
   "outputs": [
    {
     "name": "stdout",
     "output_type": "stream",
     "text": [
      "Vector(6, 8)\n"
     ]
    }
   ],
   "source": [
    "class Vector:\n",
    "    def __init__(self,x,y):\n",
    "        self.x=x\n",
    "        self.y=y\n",
    "\n",
    "    def __add__(self,other):\n",
    "        return Vector(self.x+other.x,self.y+other.y)\n",
    "    \n",
    "    def __str__(self):\n",
    "        return f\"Vector({self.x}, {self.y})\"\n",
    "    \n",
    "v1=Vector(2,3)\n",
    "v2=Vector(4,5)\n",
    "v3=v1+v2\n",
    "print(v3)"
   ]
  },
  {
   "cell_type": "markdown",
   "id": "9312454e",
   "metadata": {},
   "source": [
    "\n",
    "### Assignment 12: Abstract Properties\n",
    "\n",
    "Create an abstract base class named `Appliance` with an abstract property `power`. Create two derived classes `WashingMachine` and `Refrigerator` that implement the `power` property. Create objects of the derived classes and access the `power` property.\n"
   ]
  },
  {
   "cell_type": "code",
   "execution_count": 23,
   "id": "067dad14",
   "metadata": {},
   "outputs": [
    {
     "name": "stdout",
     "output_type": "stream",
     "text": [
      "500W\n",
      "400W\n"
     ]
    }
   ],
   "source": [
    "from abc import ABC ,abstractmethod\n",
    "class Appliance(ABC):\n",
    "    @property\n",
    "    @abstractmethod\n",
    "    def power(self):\n",
    "        pass\n",
    "class WashingMachine(Appliance):\n",
    "    @property\n",
    "    def power(self):\n",
    "        return \"500W\"\n",
    "\n",
    "class Refrigerator(Appliance):\n",
    "    @property\n",
    "    def power(self):\n",
    "        return \"400W\"\n",
    "    \n",
    "w1=WashingMachine()\n",
    "r1=Refrigerator()\n",
    "print(w1.power)\n",
    "print(r1.power)"
   ]
  },
  {
   "cell_type": "markdown",
   "id": "bd526ad0",
   "metadata": {},
   "source": [
    "\n",
    "### Assignment 13: Encapsulation in Class Hierarchies\n",
    "\n",
    "Create a base class named `Account` with private attributes `account_number` and `balance`. Add methods to get and set these attributes. Create a derived class named `SavingsAccount` that adds an attribute `interest_rate`. Create an object of the `SavingsAccount` class and test the encapsulation.\n"
   ]
  },
  {
   "cell_type": "code",
   "execution_count": 24,
   "id": "05819e6e",
   "metadata": {},
   "outputs": [
    {
     "name": "stdout",
     "output_type": "stream",
     "text": [
      "12345678 1000 0.05\n",
      "12345678 1500 0.05\n"
     ]
    }
   ],
   "source": [
    "class Account:\n",
    "    def __init__(self, account_number, balance=0):\n",
    "        self.__account_number = account_number\n",
    "        self.__balance = balance\n",
    "\n",
    "    def get_account_number(self):\n",
    "        return self.__account_number\n",
    "\n",
    "    def get_balance(self):\n",
    "        return self.__balance\n",
    "\n",
    "    def set_balance(self, balance):\n",
    "        if balance < 0:\n",
    "            print(\"Balance cannot be negative!\")\n",
    "        else:\n",
    "            self.__balance = balance\n",
    "\n",
    "class SavingsAccount(Account):\n",
    "    def __init__(self, account_number, balance, interest_rate):\n",
    "        super().__init__(account_number, balance)\n",
    "        self.interest_rate = interest_rate\n",
    "\n",
    "\n",
    "savings = SavingsAccount('12345678', 1000, 0.05)\n",
    "print(savings.get_account_number(), savings.get_balance(), savings.interest_rate)\n",
    "savings.set_balance(1500)\n",
    "print(savings.get_account_number(), savings.get_balance(), savings.interest_rate)"
   ]
  },
  {
   "cell_type": "markdown",
   "id": "8468f73f",
   "metadata": {},
   "source": [
    "\n",
    "### Assignment 14: Polymorphism with Multiple Inheritance\n",
    "\n",
    "Create a class named `Flyer` with a method `fly`. Create a class named `Swimmer` with a method `swim`. Create a class named `Superhero` that inherits from both `Flyer` and `Swimmer` and overrides both methods. Create an object of the `Superhero` class and call both methods.\n"
   ]
  },
  {
   "cell_type": "code",
   "execution_count": 25,
   "id": "6d39df45",
   "metadata": {},
   "outputs": [
    {
     "name": "stdout",
     "output_type": "stream",
     "text": [
      "Fly in the sky\n",
      "Swiming is the best exercise\n"
     ]
    }
   ],
   "source": [
    "class Flyer:\n",
    "    def fly(self):\n",
    "        print(\"Fly in the sky\")\n",
    "\n",
    "class Swimmer:\n",
    "    def swim(self):\n",
    "        print(\"Swiming is the best exercise\")\n",
    "\n",
    "class Superhero(Flyer,Swimmer):\n",
    "    pass\n",
    "\n",
    "s1=Superhero()\n",
    "s1.fly()\n",
    "s1.swim()"
   ]
  },
  {
   "cell_type": "markdown",
   "id": "27117060",
   "metadata": {},
   "source": [
    "\n",
    "### Assignment 15: Abstract Methods and Multiple Inheritance\n",
    "\n",
    "Create an abstract base class named `Worker` with an abstract method `work`. Create two derived classes `Engineer` and `Doctor` that implement the `work` method. Create another derived class `Scientist` that inherits from both `Engineer` and `Doctor`. Create an object of the `Scientist` class and call the `work` method."
   ]
  },
  {
   "cell_type": "code",
   "execution_count": 28,
   "metadata": {},
   "outputs": [
    {
     "name": "stdout",
     "output_type": "stream",
     "text": [
      "Engineering Work\n",
      "Health Work\n"
     ]
    }
   ],
   "source": [
    "class Worker(ABC):\n",
    "    @abstractmethod\n",
    "    def work(self):\n",
    "        pass\n",
    "\n",
    "class Engineer(Worker):\n",
    "    def work(self):\n",
    "        print(\"Engineering Work\")\n",
    "\n",
    "class Doctor(Worker):\n",
    "    def work(self):\n",
    "        print(\"Health Work\")\n",
    "\n",
    "class Scientist(Engineer,Doctor):\n",
    "    def work(self):\n",
    "        Engineer.work(self)\n",
    "        Doctor.work(self)\n",
    "\n",
    "s1=Scientist()\n",
    "s1.work()"
   ]
  },
  {
   "cell_type": "code",
   "execution_count": null,
   "id": "3cf83d7b",
   "metadata": {},
   "outputs": [],
   "source": []
  }
 ],
 "metadata": {
  "kernelspec": {
   "display_name": "Python 3",
   "language": "python",
   "name": "python3"
  },
  "language_info": {
   "codemirror_mode": {
    "name": "ipython",
    "version": 3
   },
   "file_extension": ".py",
   "mimetype": "text/x-python",
   "name": "python",
   "nbconvert_exporter": "python",
   "pygments_lexer": "ipython3",
   "version": "3.10.0"
  }
 },
 "nbformat": 4,
 "nbformat_minor": 5
}
