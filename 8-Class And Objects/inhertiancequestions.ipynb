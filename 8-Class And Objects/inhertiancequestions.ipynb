{
 "cells": [
  {
   "cell_type": "markdown",
   "id": "92ed220b",
   "metadata": {},
   "source": [
    "# Module: Inheritance Assignments\n",
    "## Lesson: Single and Multiple Inheritance\n",
    "### Assignment 1: Single Inheritance Basic\n",
    "\n",
    "Create a base class named `Animal` with attributes `name` and `species`. Create a derived class named `Dog` that inherits from `Animal` and adds an attribute `breed`. Create an object of the `Dog` class and print its attributes.\n"
   ]
  },
  {
   "cell_type": "code",
   "execution_count": 2,
   "id": "140323f6",
   "metadata": {},
   "outputs": [
    {
     "name": "stdout",
     "output_type": "stream",
     "text": [
      "Buddy working dog pug\n"
     ]
    }
   ],
   "source": [
    "class Animal:\n",
    "    def __init__(self,name,species):\n",
    "        self.name=name\n",
    "        self.species=species\n",
    "\n",
    "class Dog(Animal):\n",
    "    def __init__(self,name,species,breed):\n",
    "        super().__init__(name,species)\n",
    "        self.breed=breed\n",
    "\n",
    "dog=Dog(\"Buddy\",'working dog','pug')\n",
    "print(dog.name,dog.species,dog.breed)"
   ]
  },
  {
   "cell_type": "markdown",
   "id": "5bf51cf8",
   "metadata": {},
   "source": [
    "\n",
    "### Assignment 2: Method Overriding in Single Inheritance\n",
    "\n",
    "In the `Dog` class, override the `__str__` method to return a string representation of the object. Create an object of the class and print it.\n"
   ]
  },
  {
   "cell_type": "code",
   "execution_count": 3,
   "id": "4f6fdb62",
   "metadata": {},
   "outputs": [
    {
     "name": "stdout",
     "output_type": "stream",
     "text": [
      "Name:Buddy,Species:working dog,Breed:pug\n"
     ]
    }
   ],
   "source": [
    "class Dog(Animal):\n",
    "    def __init__(self,name,species,breed):\n",
    "        super().__init__(name,species)\n",
    "        self.breed=breed\n",
    "\n",
    "    def __str__(self):\n",
    "        return f\"Name:{self.name},Species:{self.species},Breed:{self.breed}\"\n",
    "    \n",
    "dog=Dog(\"Buddy\",'working dog','pug')   \n",
    "print(dog)"
   ]
  },
  {
   "cell_type": "markdown",
   "id": "f0ff1ab4",
   "metadata": {},
   "source": [
    "\n",
    "### Assignment 3: Single Inheritance with Additional Methods\n",
    "\n",
    "In the `Dog` class, add a method named `bark` that prints a barking sound. Create an object of the class and call the method.\n"
   ]
  },
  {
   "cell_type": "code",
   "execution_count": 4,
   "id": "8458f726",
   "metadata": {},
   "outputs": [
    {
     "name": "stdout",
     "output_type": "stream",
     "text": [
      "Name:Buddy,Species:working dog,Breed:pug\n",
      "woof!\n"
     ]
    }
   ],
   "source": [
    "class Dog(Animal):\n",
    "    def __init__(self,name,species,breed):\n",
    "        super().__init__(name,species)\n",
    "        self.breed=breed\n",
    "\n",
    "    def bark(self):\n",
    "        print(\"woof!\")\n",
    "\n",
    "    def __str__(self):\n",
    "        return f\"Name:{self.name},Species:{self.species},Breed:{self.breed}\"\n",
    "    \n",
    "dog=Dog(\"Buddy\",'working dog','pug')   \n",
    "print(dog)\n",
    "dog.bark()"
   ]
  },
  {
   "cell_type": "markdown",
   "id": "9b5dda31",
   "metadata": {},
   "source": [
    "\n",
    "### Assignment 4: Multiple Inheritance Basic\n",
    "\n",
    "Create a base class named `Walker` with a method `walk` that prints a walking message. Create another base class named `Runner` with a method `run` that prints a running message. Create a derived class named `Athlete` that inherits from both `Walker` and `Runner`. Create an object of the `Athlete` class and call both methods.\n"
   ]
  },
  {
   "cell_type": "code",
   "execution_count": 5,
   "id": "cae67e38",
   "metadata": {},
   "outputs": [
    {
     "name": "stdout",
     "output_type": "stream",
     "text": [
      "walking daily\n",
      "run daily\n"
     ]
    }
   ],
   "source": [
    "class Walker:\n",
    "    def walk(self):\n",
    "        print(\"walking daily\")\n",
    "\n",
    "class Runner:\n",
    "    def run(self):\n",
    "        print(\"run daily\")\n",
    "\n",
    "class Athelete(Walker,Runner):\n",
    "    def __init__(self):\n",
    "        pass\n",
    "\n",
    "A1=Athelete()\n",
    "A1.walk()\n",
    "A1.run()"
   ]
  },
  {
   "cell_type": "markdown",
   "id": "89dc1fbe",
   "metadata": {},
   "source": [
    "\n",
    "### Assignment 5: Method Resolution Order (MRO) in Multiple Inheritance\n",
    "\n",
    "In the `Athlete` class, override the `walk` method to print a different message. Create an object of the class and call the `walk` method. Use the `super()` function to call the `walk` method of the `Walker` class.\n"
   ]
  },
  {
   "cell_type": "code",
   "execution_count": 8,
   "id": "f0e953b0",
   "metadata": {},
   "outputs": [
    {
     "name": "stdout",
     "output_type": "stream",
     "text": [
      "Walk 2 times in a day\n",
      "walking daily\n",
      "run daily\n"
     ]
    }
   ],
   "source": [
    "class Walker:\n",
    "    def walk(self):\n",
    "        print(\"walking daily\")\n",
    "\n",
    "class Runner:\n",
    "    def run(self):\n",
    "        print(\"run daily\")\n",
    "\n",
    "class Athelete(Walker,Runner):\n",
    "    def __init__(self):\n",
    "        pass\n",
    "\n",
    "    def walk(self):\n",
    "        print(\"Walk 2 times in a day\")\n",
    "        super().walk()\n",
    "\n",
    "A1=Athelete()\n",
    "A1.walk()\n",
    "A1.run()"
   ]
  },
  {
   "cell_type": "markdown",
   "id": "db94a316",
   "metadata": {},
   "source": [
    "\n",
    "### Assignment 6: Multiple Inheritance with Additional Attributes\n",
    "\n",
    "In the `Athlete` class, add an attribute `training_hours` and a method `train` that prints the training hours. Create an object of the class and call the method.\n"
   ]
  },
  {
   "cell_type": "code",
   "execution_count": 9,
   "id": "008c3ccd",
   "metadata": {},
   "outputs": [
    {
     "name": "stdout",
     "output_type": "stream",
     "text": [
      "50\n"
     ]
    }
   ],
   "source": [
    "class Athelete(Walker,Runner):\n",
    "    def __init__(self,training_hour):\n",
    "        self.training_hour=training_hour\n",
    "\n",
    "    def walk(self):\n",
    "        print(\"Walk 2 times in a day\")\n",
    "        super().walk()\n",
    "    \n",
    "    def train(self):\n",
    "        print(self.training_hour)\n",
    "\n",
    "A1=Athelete(50)\n",
    "A1.train()\n",
    "\n"
   ]
  },
  {
   "cell_type": "markdown",
   "id": "43532d84",
   "metadata": {},
   "source": [
    "\n",
    "### Assignment 7: Diamond Problem in Multiple Inheritance\n",
    "\n",
    "Create a class named `A` with a method `show` that prints a message. Create two derived classes `B` and `C` that inherit from `A` and override the `show` method. Create a class `D` that inherits from both `B` and `C`. Create an object of the `D` class and call the `show` method. Observe the method resolution order.\n"
   ]
  },
  {
   "cell_type": "code",
   "execution_count": 11,
   "id": "c7d24925",
   "metadata": {},
   "outputs": [
    {
     "name": "stdout",
     "output_type": "stream",
     "text": [
      "welcome to class B\n"
     ]
    }
   ],
   "source": [
    "class A:\n",
    "    def show(self):\n",
    "        print(\"Welcome to class A\")\n",
    "\n",
    "class B(A):\n",
    "    def show(self):\n",
    "        print(\"welcome to class B\")\n",
    "\n",
    "class C(A):\n",
    "    def show(self):\n",
    "        print(\"Welcome to class C\")\n",
    "\n",
    "class D(B,C):\n",
    "    pass\n",
    "\n",
    "d=D()\n",
    "d.show()"
   ]
  },
  {
   "cell_type": "markdown",
   "id": "5f5fa518",
   "metadata": {},
   "source": [
    "\n",
    "### Assignment 8: Using `super()` in Single Inheritance\n",
    "\n",
    "Create a base class named `Shape` with an attribute `color`. Create a derived class named `Circle` that inherits from `Shape` and adds an attribute `radius`. Use the `super()` function to initialize the attributes. Create an object of the `Circle` class and print its attributes.\n"
   ]
  },
  {
   "cell_type": "code",
   "execution_count": 12,
   "id": "3ca3a62f",
   "metadata": {},
   "outputs": [
    {
     "name": "stdout",
     "output_type": "stream",
     "text": [
      "Red 5\n"
     ]
    }
   ],
   "source": [
    "class Shape:\n",
    "    def __init__(self,color):\n",
    "        self.color=color\n",
    "\n",
    "class Circle(Shape):\n",
    "    def __init__(self,color,radius):\n",
    "        super().__init__(color)\n",
    "        self.radius=radius\n",
    "\n",
    "c1=Circle('Red',5)\n",
    "print(c1.color,c1.radius)\n"
   ]
  },
  {
   "cell_type": "markdown",
   "id": "49f2c11c",
   "metadata": {},
   "source": [
    "\n",
    "### Assignment 9: Using `super()` in Multiple Inheritance\n",
    "\n",
    "Create a class named `Person` with an attribute `name`. Create a class named `Employee` with an attribute `employee_id`. Create a derived class `Manager` that inherits from both `Person` and `Employee`. Use the `super()` function to initialize the attributes. Create an object of the `Manager` class and print its attributes.\n"
   ]
  },
  {
   "cell_type": "code",
   "execution_count": 4,
   "id": "cb03d890",
   "metadata": {},
   "outputs": [
    {
     "name": "stdout",
     "output_type": "stream",
     "text": [
      "Ajay A312456\n"
     ]
    }
   ],
   "source": [
    "class Person:\n",
    "    def __init__(self,name):\n",
    "        self.name=name\n",
    "    \n",
    "class Employee:\n",
    "    def __init__(self,empid):\n",
    "        self.empid=empid\n",
    "\n",
    "class Manager(Person,Employee):\n",
    "    def __init__(self,name,empid):\n",
    "        Person.__init__(self,name)\n",
    "        Employee.__init__(self,empid)\n",
    "\n",
    "m1=Manager(\"Ajay\",'A312456')\n",
    "print(m1.name,m1.empid)"
   ]
  },
  {
   "cell_type": "markdown",
   "id": "1bdea3f8",
   "metadata": {},
   "source": [
    "\n",
    "### Assignment 10: Method Overriding and `super()`\n",
    "\n",
    "Create a class named `Vehicle` with a method `start` that prints a starting message. Create a derived class `Car` that overrides the `start` method to print a different message. Use the `super()` function to call the `start` method of the `Vehicle` class. Create an object of the `Car` class and call the `start` method.\n"
   ]
  },
  {
   "cell_type": "code",
   "execution_count": 7,
   "id": "e9ede7d4",
   "metadata": {},
   "outputs": [
    {
     "name": "stdout",
     "output_type": "stream",
     "text": [
      "Car Started\n",
      "Vehicle Started\n"
     ]
    }
   ],
   "source": [
    "class Vehicle:\n",
    "    def start(self):\n",
    "        print(\"Vehicle Started\")\n",
    "\n",
    "class Car(Vehicle):\n",
    "    def start(self):\n",
    "        print(\"Car Started\")\n",
    "        super().start()\n",
    "\n",
    "car=Car()\n",
    "car.start()"
   ]
  },
  {
   "cell_type": "markdown",
   "id": "200508ff",
   "metadata": {},
   "source": [
    "\n",
    "### Assignment 11: Multiple Inheritance with Different Methods\n",
    "\n",
    "Create a class named `Flyer` with a method `fly` that prints a flying message. Create a class named `Swimmer` with a method `swim` that prints a swimming message. Create a derived class `Superhero` that inherits from both `Flyer` and `Swimmer`. Create an object of the `Superhero` class and call both methods.\n"
   ]
  },
  {
   "cell_type": "code",
   "execution_count": 8,
   "id": "a55860d9",
   "metadata": {},
   "outputs": [
    {
     "name": "stdout",
     "output_type": "stream",
     "text": [
      "Fly in the sky\n",
      "Swiming is the best exercise\n"
     ]
    }
   ],
   "source": [
    "class Flyer:\n",
    "    def fly(self):\n",
    "        print(\"Fly in the sky\")\n",
    "\n",
    "class Swimmer:\n",
    "    def swim(self):\n",
    "        print(\"Swiming is the best exercise\")\n",
    "\n",
    "class Superhero(Flyer,Swimmer):\n",
    "    pass\n",
    "\n",
    "s1=Superhero()\n",
    "s1.fly()\n",
    "s1.swim()"
   ]
  },
  {
   "cell_type": "markdown",
   "id": "b1bd875c",
   "metadata": {},
   "source": [
    "\n",
    "### Assignment 12: Complex Multiple Inheritance\n",
    "\n",
    "Create a class named `Base1` with an attribute `a`. Create a class named `Base2` with an attribute `b`. Create a class named `Derived` that inherits from both `Base1` and `Base2` and adds an attribute `c`. Initialize all attributes using the `super()` function. Create an object of the `Derived` class and print its attributes.\n"
   ]
  },
  {
   "cell_type": "code",
   "execution_count": 9,
   "id": "0254473f",
   "metadata": {},
   "outputs": [
    {
     "name": "stdout",
     "output_type": "stream",
     "text": [
      "1 2 3\n"
     ]
    }
   ],
   "source": [
    "class Base1:\n",
    "    def __init__(self,a):\n",
    "        self.a=a\n",
    "\n",
    "class Base2:\n",
    "    def __init__(self,b):\n",
    "        self.b=b\n",
    "\n",
    "class Derived(Base1,Base2):\n",
    "    def __init__(self,a,b,c):\n",
    "        super().__init__(a)\n",
    "        Base2.__init__(self,b)\n",
    "        self.c=c\n",
    "\n",
    "d1=Derived(1,2,3)\n",
    "print(d1.a,d1.b,d1.c)\n",
    "\n"
   ]
  },
  {
   "cell_type": "markdown",
   "id": "c7abfca2",
   "metadata": {},
   "source": [
    "\n",
    "### Assignment 13: Checking Instance Types with Inheritance\n",
    "\n",
    "Create a base class named `Animal` and a derived class named `Cat`. Create objects of both classes and use the `isinstance` function to check the instance types.\n"
   ]
  },
  {
   "cell_type": "code",
   "execution_count": 10,
   "id": "1d0ac392",
   "metadata": {},
   "outputs": [
    {
     "name": "stdout",
     "output_type": "stream",
     "text": [
      "True\n",
      "True\n",
      "True\n",
      "False\n"
     ]
    }
   ],
   "source": [
    "class Animal:\n",
    "    pass\n",
    "\n",
    "class Cat(Animal):\n",
    "    pass\n",
    "\n",
    "A1=Animal()\n",
    "C1=Cat()\n",
    "print(isinstance(A1, Animal))  # True\n",
    "print(isinstance(C1, Animal))  # True\n",
    "print(isinstance(C1, Cat))  # True\n",
    "print(isinstance(A1, Cat))  # False"
   ]
  },
  {
   "cell_type": "markdown",
   "id": "ace6ca10",
   "metadata": {},
   "source": [
    "\n",
    "### Assignment 14: Polymorphism with Inheritance\n",
    "\n",
    "Create a base class named `Bird` with a method `speak`. Create two derived classes `Parrot` and `Penguin` that override the `speak` method. Create a list of `Bird` objects and call the `speak` method on each object to demonstrate polymorphism.\n"
   ]
  },
  {
   "cell_type": "code",
   "execution_count": 11,
   "id": "c4237df3",
   "metadata": {},
   "outputs": [
    {
     "name": "stdout",
     "output_type": "stream",
     "text": [
      "Parrot says: Squawk!\n",
      "Penguin says: Honk!\n"
     ]
    }
   ],
   "source": [
    "class Bird:\n",
    "    def speak(self):\n",
    "        pass\n",
    "\n",
    "class Parrot(Bird):\n",
    "    def speak(self):\n",
    "        print(\"Parrot says: Squawk!\")\n",
    "\n",
    "class Penguin(Bird):\n",
    "    def speak(self):\n",
    "         print(\"Penguin says: Honk!\")\n",
    "\n",
    "birds = [Parrot(), Penguin()]\n",
    "for bird in birds:\n",
    "    bird.speak()\n"
   ]
  },
  {
   "cell_type": "markdown",
   "id": "ec263b31",
   "metadata": {},
   "source": [
    "\n",
    "### Assignment 15: Combining Single and Multiple Inheritance\n",
    "\n",
    "Create a base class named `Device` with an attribute `brand`. Create a derived class `Phone` that inherits from `Device` and adds an attribute `model`. Create another base class `Camera` with an attribute `resolution`. Create a derived class `Smartphone` that inherits from both `Phone` and `Camera`. Create an object of the `Smartphone` class and print its attributes."
   ]
  },
  {
   "cell_type": "code",
   "execution_count": 12,
   "metadata": {},
   "outputs": [
    {
     "name": "stdout",
     "output_type": "stream",
     "text": [
      "SAMSUNG S24 Ultra 64MP\n"
     ]
    }
   ],
   "source": [
    "class Device:\n",
    "    def __init__(self,brand):\n",
    "        self.brand=brand\n",
    "\n",
    "class Phone(Device):\n",
    "    def __init__(self,brand,model):\n",
    "        super().__init__(brand)\n",
    "        self.model=model\n",
    "\n",
    "class Camera:\n",
    "    def __init__(self,resolution):\n",
    "        self.resolution=resolution\n",
    "\n",
    "class SmartPhone(Phone,Camera):\n",
    "    def __init__(self, brand, model, resolution):\n",
    "        Phone.__init__(self, brand, model)\n",
    "        Camera.__init__(self, resolution)\n",
    "\n",
    "s1=SmartPhone(\"SAMSUNG\",\"S24 Ultra\",\"64MP\")\n",
    "print(s1.brand,s1.model,s1.resolution)\n"
   ]
  },
  {
   "cell_type": "code",
   "execution_count": null,
   "id": "a8ca0256",
   "metadata": {},
   "outputs": [],
   "source": []
  }
 ],
 "metadata": {
  "kernelspec": {
   "display_name": "Python 3",
   "language": "python",
   "name": "python3"
  },
  "language_info": {
   "codemirror_mode": {
    "name": "ipython",
    "version": 3
   },
   "file_extension": ".py",
   "mimetype": "text/x-python",
   "name": "python",
   "nbconvert_exporter": "python",
   "pygments_lexer": "ipython3",
   "version": "3.10.0"
  }
 },
 "nbformat": 4,
 "nbformat_minor": 5
}
