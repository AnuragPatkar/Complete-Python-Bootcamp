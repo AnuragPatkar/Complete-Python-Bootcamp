{
 "cells": [
  {
   "cell_type": "markdown",
   "metadata": {},
   "source": [
    "# Module: Logging Assignments\n",
    "## Lesson: Logging\n",
    "### Assignment 1: Basic Logging\n",
    "\n",
    "1. Write a Python function to create a basic logger that logs messages to a file named `app.log`.\n"
   ]
  },
  {
   "cell_type": "code",
   "execution_count": 1,
   "id": "1f2f72ed",
   "metadata": {},
   "outputs": [],
   "source": [
    "import logging\n",
    "\n",
    "def basic_logger():\n",
    "    logging.basicConfig(filename='app.log',level=logging.DEBUG)\n",
    "    logging.debug(\"This is a Debug Massage\")\n",
    "    logging.error(\"This is a Error Massage\")\n",
    "    logging.warning(\"This is a Warning Massage\")\n",
    "    logging.info(\"This is a info Massage\")\n",
    "    logging.critical(\"This is a critical Massage\")\n",
    "\n",
    "basic_logger()"
   ]
  },
  {
   "cell_type": "markdown",
   "id": "b73c2998",
   "metadata": {},
   "source": [
    "2. Modify the function to log messages of levels: DEBUG, INFO, WARNING, ERROR, and CRITICAL.\n"
   ]
  },
  {
   "cell_type": "code",
   "execution_count": null,
   "id": "eca651a6",
   "metadata": {},
   "outputs": [],
   "source": [
    "# The modification is already included in the above function."
   ]
  },
  {
   "cell_type": "markdown",
   "id": "e95f7b29",
   "metadata": {},
   "source": [
    "\n",
    "### Assignment 2: Logging with Different Handlers\n",
    "\n",
    "1. Write a Python function to create a logger that logs messages to both a file named `app.log` and the console.\n"
   ]
  },
  {
   "cell_type": "code",
   "execution_count": 2,
   "id": "f53ffc2b",
   "metadata": {},
   "outputs": [
    {
     "name": "stderr",
     "output_type": "stream",
     "text": [
      "2025-04-19 10:15:48,867 - my_logger - DEBUG - This is a debug message\n",
      "2025-04-19 10:15:48,869 - my_logger - INFO - This is an info message\n",
      "2025-04-19 10:15:48,871 - my_logger - WARNING - This is a warning message\n",
      "2025-04-19 10:15:48,873 - my_logger - ERROR - This is an error message\n",
      "2025-04-19 10:15:48,875 - my_logger - CRITICAL - This is a critical message\n"
     ]
    }
   ],
   "source": [
    "import logging\n",
    "def logger_with_handlers():\n",
    "    logger=logging.getLogger('my_logger')\n",
    "    logger.setLevel(logging.DEBUG)\n",
    "\n",
    "    file_handler=logging.FileHandler('app.log')\n",
    "    console_handler=logging.StreamHandler()\n",
    "\n",
    "    file_handler.setLevel(logging.DEBUG)\n",
    "    console_handler.setLevel(logging.DEBUG)\n",
    "    \n",
    "    formatter=logging.Formatter('%(asctime)s - %(name)s - %(levelname)s - %(message)s')\n",
    "    file_handler.setFormatter(formatter)\n",
    "    console_handler.setFormatter(formatter)\n",
    "\n",
    "    logger.addHandler(file_handler)\n",
    "    logger.addHandler(console_handler)\n",
    "\n",
    "    logger.debug('This is a debug message')\n",
    "    logger.info('This is an info message')\n",
    "    logger.warning('This is a warning message')\n",
    "    logger.error('This is an error message')\n",
    "    logger.critical('This is a critical message')\n",
    "\n",
    "logger_with_handlers()"
   ]
  },
  {
   "cell_type": "markdown",
   "id": "15e6b680",
   "metadata": {},
   "source": [
    "2. Modify the function to use different logging levels for the file and console handlers.\n"
   ]
  },
  {
   "cell_type": "code",
   "execution_count": null,
   "id": "cdfa9490",
   "metadata": {},
   "outputs": [],
   "source": [
    "# The modification is already included in the above function."
   ]
  },
  {
   "cell_type": "markdown",
   "id": "c3e48b86",
   "metadata": {},
   "source": [
    "\n",
    "### Assignment 3: Formatting Log Messages\n",
    "\n",
    "1. Write a Python function to create a logger with a custom log message format that includes the timestamp, logging level, and message.\n"
   ]
  },
  {
   "cell_type": "code",
   "execution_count": 1,
   "id": "5ebf6bcc",
   "metadata": {},
   "outputs": [
    {
     "name": "stderr",
     "output_type": "stream",
     "text": [
      "2025-04-19 10:26:33,194 - custom_logger - DEBUG - This is a debug massage\n",
      "2025-04-19 10:26:33,195 - custom_logger - INFO - This is a info massage\n",
      "2025-04-19 10:26:33,197 - custom_logger - ERROR - This is a error massage\n",
      "2025-04-19 10:26:33,199 - custom_logger - WARNING - This is a warning massage\n",
      "2025-04-19 10:26:33,203 - custom_logger - CRITICAL - This is a critical massage\n"
     ]
    }
   ],
   "source": [
    "import logging\n",
    "def create_logger_with_custom_message():\n",
    "    logger=logging.getLogger('custom_logger')\n",
    "    logger.setLevel(logging.DEBUG)\n",
    "\n",
    "    file_handler=logging.FileHandler('custom_app.log')\n",
    "    file_handler.setLevel(logging.DEBUG)\n",
    "\n",
    "    console_handler=logging.StreamHandler()\n",
    "    console_handler.setLevel(logging.DEBUG)\n",
    "\n",
    "    formatter=logging.Formatter('%(asctime)s - %(name)s - %(levelname)s - %(message)s')\n",
    "    file_handler.setFormatter(formatter)\n",
    "    console_handler.setFormatter(formatter)\n",
    "\n",
    "    logger.addHandler(file_handler)\n",
    "    logger.addHandler(console_handler)\n",
    "\n",
    "    logger.debug(\"This is a debug massage\")\n",
    "    logger.info(\"This is a info massage\")\n",
    "    logger.error(\"This is a error massage\")\n",
    "    logger.warning(\"This is a warning massage\")\n",
    "    logger.critical(\"This is a critical massage\")\n",
    "\n",
    "create_logger_with_custom_message()"
   ]
  },
  {
   "cell_type": "markdown",
   "id": "8bfea627",
   "metadata": {},
   "source": [
    "2. Modify the function to use different formats for the file and console handlers.\n"
   ]
  },
  {
   "cell_type": "code",
   "execution_count": 3,
   "id": "b36abc08",
   "metadata": {},
   "outputs": [
    {
     "name": "stderr",
     "output_type": "stream",
     "text": [
      "2025-04-19 10:36:56,449 - multi_format_logger - This is a debug massage\n",
      "2025-04-19 10:36:56,450 - multi_format_logger - This is a info massage\n",
      "2025-04-19 10:36:56,452 - multi_format_logger - This is a error massage\n",
      "2025-04-19 10:36:56,454 - multi_format_logger - This is a warning massage\n",
      "2025-04-19 10:36:56,455 - multi_format_logger - This is a critical massage\n"
     ]
    }
   ],
   "source": [
    "def create_logger_with_different_format():\n",
    "    logger=logging.getLogger('multi_format_logger')\n",
    "    logger.setLevel(logging.DEBUG)\n",
    "\n",
    "    file_handler=logging.FileHandler('multi_format.log')\n",
    "    file_handler.setLevel(logging.DEBUG)\n",
    "\n",
    "    console_handler=logging.StreamHandler()\n",
    "    console_handler.setLevel(logging.DEBUG)\n",
    "\n",
    "    file_formatter=logging.Formatter('%(asctime)s - %(name)s -%(levelname)s - %(message)s')\n",
    "    console_formatter=logging.Formatter('%(asctime)s - %(name)s - %(message)s')\n",
    "\n",
    "    file_handler.setFormatter(file_formatter)\n",
    "    console_handler.setFormatter(console_formatter)\n",
    "\n",
    "    logger.addHandler(file_handler)\n",
    "    logger.addHandler(console_handler)\n",
    "\n",
    "    logger.debug(\"This is a debug massage\")\n",
    "    logger.info(\"This is a info massage\")\n",
    "    logger.error(\"This is a error massage\")\n",
    "    logger.warning(\"This is a warning massage\")\n",
    "    logger.critical(\"This is a critical massage\")\n",
    "\n",
    "create_logger_with_different_format()"
   ]
  },
  {
   "cell_type": "markdown",
   "id": "9f4b1407",
   "metadata": {},
   "source": [
    "\n",
    "### Assignment 4: Rotating Log Files\n",
    "\n",
    "1. Write a Python function to create a logger that uses a rotating file handler, which creates a new log file when the current log file reaches a certain size.\n"
   ]
  },
  {
   "cell_type": "code",
   "execution_count": 4,
   "id": "ff1238b1",
   "metadata": {},
   "outputs": [],
   "source": [
    "from logging.handlers import RotatingFileHandler\n",
    "\n",
    "def logger_with_rotating_file_handler():\n",
    "    logger = logging.getLogger('rotating_logger')\n",
    "    logger.setLevel(logging.DEBUG)\n",
    "    \n",
    "    rotating_handler = RotatingFileHandler('rotating_app.log', maxBytes=2000, backupCount=5)\n",
    "    formatter = logging.Formatter('%(asctime)s - %(name)s - %(levelname)s - %(message)s')\n",
    "    rotating_handler.setFormatter(formatter)\n",
    "    \n",
    "    logger.addHandler(rotating_handler)\n",
    "    \n",
    "    for i in range(100):\n",
    "        logger.debug('This is debug message number {}'.format(i))\n",
    "\n",
    "# Test the function\n",
    "logger_with_rotating_file_handler()"
   ]
  },
  {
   "cell_type": "markdown",
   "id": "e16e4c16",
   "metadata": {},
   "source": [
    "2. Modify the function to keep a specified number of backup log files.\n",
    "\n"
   ]
  },
  {
   "cell_type": "code",
   "execution_count": null,
   "id": "b2ed6d7b",
   "metadata": {},
   "outputs": [],
   "source": [
    "# The modification is already included in the above function with backupCount=5."
   ]
  },
  {
   "cell_type": "markdown",
   "id": "81468297",
   "metadata": {},
   "source": [
    "### Assignment 5: Logging Exceptions\n",
    "\n",
    "1. Write a Python function that logs an exception stack trace to a log file when an exception occurs.\n"
   ]
  },
  {
   "cell_type": "code",
   "execution_count": 6,
   "id": "7e8fe0d1",
   "metadata": {},
   "outputs": [
    {
     "name": "stdout",
     "output_type": "stream",
     "text": [
      "Error:division by zero\n"
     ]
    }
   ],
   "source": [
    "def log_exception():\n",
    "    logger=logging.getLogger('logging_exceptions')\n",
    "    logger.setLevel(logging.ERROR)\n",
    "\n",
    "    file_handler=logging.FileHandler('logging_exception.log')\n",
    "    file_handler.setLevel(logging.ERROR)\n",
    "    \n",
    "    formatter=logging.Formatter('%(asctime)s - %(name)s - %(levelname)s -%(message)s')\n",
    "    file_handler.setFormatter(formatter)\n",
    "\n",
    "    logger.addHandler(file_handler)\n",
    "\n",
    "    try:\n",
    "        1/0\n",
    "    except ZeroDivisionError as e:\n",
    "        print(f\"Error:{e}\")\n",
    "\n",
    "log_exception()    "
   ]
  },
  {
   "cell_type": "markdown",
   "id": "a97b60b0",
   "metadata": {},
   "source": [
    "2. Modify the function to log the stack trace at the ERROR level.\n"
   ]
  },
  {
   "cell_type": "code",
   "execution_count": null,
   "id": "4501d686",
   "metadata": {},
   "outputs": [],
   "source": [
    "# The modification is already included in the above function.\n"
   ]
  },
  {
   "cell_type": "markdown",
   "id": "2d32c3aa",
   "metadata": {},
   "source": [
    "\n",
    "### Assignment 6: Contextual Logging\n",
    "\n",
    "1. Write a Python function to create a logger that includes contextual information (e.g., function name, line number) in the log messages.\n"
   ]
  },
  {
   "cell_type": "code",
   "execution_count": 2,
   "id": "23485326",
   "metadata": {},
   "outputs": [],
   "source": [
    "import logging\n",
    "def create_logger_include_contextual_info():\n",
    "    logger=logging.getLogger('logger_include_contextual_info')\n",
    "    logger.setLevel(logging.DEBUG)\n",
    "\n",
    "    file_handler=logging.FileHandler('contextual_info.log')\n",
    "    file_handler.setLevel(logging.DEBUG)\n",
    "    \n",
    "    formatter=logging.Formatter('%(asctime)s - %(name)s - %(levelname)s -%(message)s -%(funcName)s -%(lineno)s')\n",
    "    file_handler.setFormatter(formatter)\n",
    "\n",
    "    logger.addHandler(file_handler)\n",
    "    def test_log():  \n",
    "        logger.debug(\"This is a debug massage\")\n",
    "        logger.info(\"This is a info massage\")\n",
    "        logger.error(\"This is a error massage\")\n",
    "        logger.warning(\"This is a warning massage\")\n",
    "        logger.critical(\"This is a critical massage\")\n",
    "    \n",
    "    test_log()\n",
    "\n",
    "create_logger_include_contextual_info()\n",
    "            "
   ]
  },
  {
   "cell_type": "markdown",
   "id": "fd52f414",
   "metadata": {},
   "source": [
    "2. Modify the function to include additional contextual information (e.g., user ID, session ID).\n"
   ]
  },
  {
   "cell_type": "markdown",
   "id": "bd6583e2",
   "metadata": {},
   "source": [
    "\n",
    "### Assignment 7: Configuring Logging with a Dictionary\n",
    "\n",
    "1. Write a Python function to configure logging using a dictionary. The configuration should include handlers for both file and console logging.\n"
   ]
  },
  {
   "cell_type": "markdown",
   "id": "f1c04ad2",
   "metadata": {},
   "source": [
    "2. Modify the dictionary to include different logging levels and formats for each handler.\n"
   ]
  },
  {
   "cell_type": "markdown",
   "id": "b82647bb",
   "metadata": {},
   "source": [
    "\n",
    "### Assignment 8: Logging in a Multi-Module Application\n",
    "\n",
    "1. Write a Python script that sets up logging for a multi-module application. Each module should have its own logger.\n"
   ]
  },
  {
   "cell_type": "markdown",
   "id": "e4a2385b",
   "metadata": {},
   "source": [
    "2. Modify the script to propagate log messages from each module's logger to a root logger that handles logging to a file.\n"
   ]
  },
  {
   "cell_type": "markdown",
   "id": "1ffb6e89",
   "metadata": {},
   "source": [
    "\n",
    "### Assignment 9: Logging Performance\n",
    "\n",
    "1. Write a Python script to benchmark the performance of logging with different handlers (e.g., file handler, console handler, rotating file handler).\n"
   ]
  },
  {
   "cell_type": "markdown",
   "id": "87eaf267",
   "metadata": {},
   "source": [
    "2. Modify the script to compare the performance of logging with and without message formatting.\n"
   ]
  },
  {
   "cell_type": "markdown",
   "id": "92380fd0",
   "metadata": {},
   "source": [
    "\n",
    "### Assignment 10: Advanced Logging Configuration\n",
    "\n",
    "1. Write a Python function to configure logging using an external configuration file (e.g., `logging.conf`). The configuration should include handlers for file and console logging.\n"
   ]
  },
  {
   "cell_type": "markdown",
   "id": "6a01a943",
   "metadata": {},
   "source": [
    "2. Modify the configuration file to use different logging levels and formats for each handler."
   ]
  },
  {
   "cell_type": "code",
   "execution_count": null,
   "metadata": {},
   "outputs": [],
   "source": []
  }
 ],
 "metadata": {
  "kernelspec": {
   "display_name": "Python 3",
   "language": "python",
   "name": "python3"
  },
  "language_info": {
   "codemirror_mode": {
    "name": "ipython",
    "version": 3
   },
   "file_extension": ".py",
   "mimetype": "text/x-python",
   "name": "python",
   "nbconvert_exporter": "python",
   "pygments_lexer": "ipython3",
   "version": "3.10.0"
  }
 },
 "nbformat": 4,
 "nbformat_minor": 5
}
